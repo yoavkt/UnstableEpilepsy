{
 "cells": [
  {
   "cell_type": "code",
   "execution_count": 1,
   "id": "7f4e0ba5",
   "metadata": {},
   "outputs": [],
   "source": [
    "import pandas as pd\n",
    "import warnings\n",
    "\n",
    "#warnings.filterwarnings(\"ignore\")\n",
    "\n",
    "from epilepsy_prediction import load_prediction_model, data_preprocess,fuse_string,evaluate_model,load_imputation_model\n",
    "from epilepsy_prediction.imputation import column_imputer\n",
    "from copy import deepcopy\n",
    "from pandas import read_csv\n",
    "from pandas import DataFrame\n",
    "from pandas import melt\n",
    "from pandas import merge\n",
    "from xgboost import XGBClassifier\n",
    "from sklearn.metrics import confusion_matrix\n",
    "from sklearn.model_selection import cross_val_score, KFold\n",
    "from sklearn.metrics import roc_auc_score, roc_curve\n",
    "from sklearn.linear_model import LogisticRegression\n",
    "\n",
    "def load_data(change_name_file,data_file_name,outcome_col=\"outcome\"):\n",
    "    data_df = pd.read_csv(data_file_name, index_col=0)\n",
    "    new_name_df = pd.read_csv(change_name_file,index_col=0)\n",
    "    data_df.rename(new_name_df['marketscan'].to_dict(),inplace=True,axis=1)\n",
    "    y_train = data_df.loc[data_df[\"test_train\"]==\"train\",outcome_col]\n",
    "    X_train = data_df.loc[data_df[\"test_train\"]==\"train\",~( data_df.columns.isin([outcome_col,\"test_train\"]))]\n",
    "    y_test = data_df.loc[~(data_df[\"test_train\"]==\"train\"),outcome_col]\n",
    "    X_test = data_df.loc[~(data_df[\"test_train\"]==\"train\"),~ (data_df.columns.isin([outcome_col,\"test_train\"]))]\n",
    "    return X_train,y_train,X_test,y_test\n"
   ]
  },
  {
   "cell_type": "markdown",
   "id": "a2f62ae8",
   "metadata": {},
   "source": [
    "## all drugs, outcome any"
   ]
  },
  {
   "cell_type": "code",
   "execution_count": 2,
   "id": "1490b872",
   "metadata": {},
   "outputs": [],
   "source": [
    "change_name_file=r\"C:\\\\Users\\Anastassia Kolde\\\\Documents\\\\Israel secondment\\\\dictionary_19.01.23.csv\"\n",
    "data_file_name = r\"C:\\\\Users\\Anastassia Kolde\\\\Documents\\\\Israel secondment\\\\Data\\test_train_drugs_all.csv\"\n",
    "X_train,y_train,X_test,y_test = load_data(change_name_file,data_file_name, outcome_col=\"outcome_any\")\n",
    "\n",
    "cols=X_train.columns[-6:]\n",
    "X = X_train.drop(\"outcome_primary\", axis = 1)  \n",
    "Xs = X_test.drop(\"outcome_primary\", axis = 1)  \n",
    "X.sort_index(inplace=True)\n",
    "Xs.sort_index(inplace=True)\n",
    "\n",
    "stbl = X_train[cols].sum().reset_index().set_axis(['drug', 'count'], axis=1).assign(weight=lambda df: df['count'])\n",
    "\n",
    "wtbl = merge(\n",
    "    melt(X_train[cols].reset_index(), id_vars=['id'], var_name='drug')\n",
    "    .pipe(lambda df: df[df['value'] == 1])\n",
    "    [['id', 'drug']],\n",
    "    stbl,\n",
    "    on='drug',\n",
    "    how='left'\n",
    ")[['id', 'weight']].set_index('id')\n",
    "\n",
    "weights = wtbl.loc[X.index.values, 'weight']\n",
    "\n",
    "##XGBoost\n",
    "xgbc = XGBClassifier()\n",
    "model_xg = xgbc.fit(X, y_train.loc[X.index], sample_weight=weights)\n",
    "\n",
    "##Logistic\n",
    "##lr = LogisticRegression()\n",
    "##model_lr = lr.fit(X, y_train.loc[X.index], sample_weight=weights)"
   ]
  },
  {
   "cell_type": "code",
   "execution_count": 3,
   "id": "149bcead",
   "metadata": {},
   "outputs": [
    {
     "data": {
      "text/plain": [
       "0.5421315404074025"
      ]
     },
     "execution_count": 3,
     "metadata": {},
     "output_type": "execute_result"
    }
   ],
   "source": [
    "#AUC test\n",
    "probs_xg = model_xg.predict_proba(Xs)[:, 1]\n",
    "auc_xg = roc_auc_score(y_test.loc[Xs.index], probs_xg)\n",
    "auc_xg"
   ]
  },
  {
   "cell_type": "code",
   "execution_count": 4,
   "id": "a262fc88",
   "metadata": {},
   "outputs": [
    {
     "data": {
      "text/plain": [
       "1.0"
      ]
     },
     "execution_count": 4,
     "metadata": {},
     "output_type": "execute_result"
    }
   ],
   "source": [
    "#AUC train\n",
    "probs_xg = model_xg.predict_proba(X)[:, 1]\n",
    "auc_xg = roc_auc_score(y_train.loc[X.index], probs_xg)\n",
    "auc_xg"
   ]
  },
  {
   "cell_type": "markdown",
   "id": "46b132df",
   "metadata": {},
   "source": [
    "## all drugs, outcome primary"
   ]
  },
  {
   "cell_type": "code",
   "execution_count": 5,
   "id": "0a34bc67",
   "metadata": {},
   "outputs": [],
   "source": [
    "change_name_file=r\"C:\\\\Users\\Anastassia Kolde\\\\Documents\\\\Israel secondment\\\\dictionary_19.01.23.csv\"\n",
    "data_file_name = r\"C:\\\\Users\\Anastassia Kolde\\\\Documents\\\\Israel secondment\\\\Data\\test_train_drugs_all.csv\"\n",
    "X_train,y_train,X_test,y_test = load_data(change_name_file,data_file_name, outcome_col=\"outcome_primary\")\n",
    "\n",
    "cols=X_train.columns[-6:]\n",
    "X = X_train.drop(\"outcome_any\", axis = 1)  \n",
    "Xs = X_test.drop(\"outcome_any\", axis = 1)  \n",
    "X.sort_index(inplace=True)\n",
    "Xs.sort_index(inplace=True)\n",
    "\n",
    "stbl = X_train[cols].sum().reset_index().set_axis(['drug', 'count'], axis=1).assign(weight=lambda df: df['count'])\n",
    "\n",
    "wtbl = merge(\n",
    "    melt(X_train[cols].reset_index(), id_vars=['id'], var_name='drug')\n",
    "    .pipe(lambda df: df[df['value'] == 1])\n",
    "    [['id', 'drug']],\n",
    "    stbl,\n",
    "    on='drug',\n",
    "    how='left'\n",
    ")[['id', 'weight']].set_index('id')\n",
    "\n",
    "weights = wtbl.loc[X.index.values, 'weight']\n",
    "\n",
    "##XGBoost\n",
    "xgbc = XGBClassifier()\n",
    "model_xg = xgbc.fit(X, y_train.loc[X.index], sample_weight=weights)\n",
    "\n",
    "##Logistic\n",
    "##lr = LogisticRegression()\n",
    "##model_lr = lr.fit(X, y_train.loc[X.index], sample_weight=weights)"
   ]
  },
  {
   "cell_type": "code",
   "execution_count": 6,
   "id": "0b3c457c",
   "metadata": {},
   "outputs": [
    {
     "data": {
      "text/plain": [
       "0.5830064402810304"
      ]
     },
     "execution_count": 6,
     "metadata": {},
     "output_type": "execute_result"
    }
   ],
   "source": [
    "#AUC test\n",
    "probs_xg = model_xg.predict_proba(Xs)[:, 1]\n",
    "auc_xg = roc_auc_score(y_test.loc[Xs.index], probs_xg)\n",
    "auc_xg"
   ]
  },
  {
   "cell_type": "code",
   "execution_count": 7,
   "id": "efa6979b",
   "metadata": {},
   "outputs": [
    {
     "data": {
      "text/plain": [
       "1.0"
      ]
     },
     "execution_count": 7,
     "metadata": {},
     "output_type": "execute_result"
    }
   ],
   "source": [
    "#AUC train\n",
    "probs_xg = model_xg.predict_proba(X)[:, 1]\n",
    "auc_xg = roc_auc_score(y_train.loc[X.index], probs_xg)\n",
    "auc_xg"
   ]
  },
  {
   "cell_type": "markdown",
   "id": "ac097522",
   "metadata": {},
   "source": [
    "## 1st index any"
   ]
  },
  {
   "cell_type": "code",
   "execution_count": 8,
   "id": "af533619",
   "metadata": {},
   "outputs": [],
   "source": [
    "change_name_file=r\"C:\\\\Users\\Anastassia Kolde\\\\Documents\\\\Israel secondment\\\\dictionary_19.01.23.csv\"\n",
    "data_file_name = r\"C:\\\\Users\\Anastassia Kolde\\\\Documents\\\\Israel secondment\\\\Data\\test_train_drugs_1st_index.csv\"\n",
    "X_train,y_train,X_test,y_test = load_data(change_name_file,data_file_name, outcome_col=\"outcome_any\")\n",
    "\n",
    "cols=X_train.columns[-6:]\n",
    "X = X_train.drop(\"outcome_primary\", axis = 1)  \n",
    "Xs = X_test.drop(\"outcome_primary\", axis = 1)  \n",
    "X.sort_index(inplace=True)\n",
    "Xs.sort_index(inplace=True)\n",
    "\n",
    "stbl = X_train[cols].sum().reset_index().set_axis(['drug', 'count'], axis=1).assign(weight=lambda df: df['count'])\n",
    "\n",
    "wtbl = merge(\n",
    "    melt(X_train[cols].reset_index(), id_vars=['id'], var_name='drug')\n",
    "    .pipe(lambda df: df[df['value'] == 1])\n",
    "    [['id', 'drug']],\n",
    "    stbl,\n",
    "    on='drug',\n",
    "    how='left'\n",
    ")[['id', 'weight']].set_index('id')\n",
    "\n",
    "weights = wtbl.loc[X.index.values, 'weight']\n",
    "\n",
    "##XGBoost\n",
    "xgbc = XGBClassifier()\n",
    "model_xg = xgbc.fit(X, y_train.loc[X.index], sample_weight=weights)\n",
    "\n",
    "##Logistic\n",
    "##lr = LogisticRegression()\n",
    "##model_lr = lr.fit(X, y_train.loc[X.index], sample_weight=weights)"
   ]
  },
  {
   "cell_type": "code",
   "execution_count": 9,
   "id": "51a05dba",
   "metadata": {},
   "outputs": [
    {
     "data": {
      "text/plain": [
       "0.5206204718558425"
      ]
     },
     "execution_count": 9,
     "metadata": {},
     "output_type": "execute_result"
    }
   ],
   "source": [
    "#AUC test\n",
    "probs_xg = model_xg.predict_proba(Xs)[:, 1]\n",
    "auc_xg = roc_auc_score(y_test.loc[Xs.index], probs_xg)\n",
    "auc_xg"
   ]
  },
  {
   "cell_type": "code",
   "execution_count": 10,
   "id": "d7669c5c",
   "metadata": {},
   "outputs": [
    {
     "data": {
      "text/plain": [
       "1.0"
      ]
     },
     "execution_count": 10,
     "metadata": {},
     "output_type": "execute_result"
    }
   ],
   "source": [
    "#AUC train\n",
    "probs_xg = model_xg.predict_proba(X)[:, 1]\n",
    "auc_xg = roc_auc_score(y_train.loc[X.index], probs_xg)\n",
    "auc_xg"
   ]
  },
  {
   "cell_type": "markdown",
   "id": "144d1f7d",
   "metadata": {},
   "source": [
    "## 1st primary"
   ]
  },
  {
   "cell_type": "code",
   "execution_count": 11,
   "id": "22adee42",
   "metadata": {},
   "outputs": [],
   "source": [
    "change_name_file=r\"C:\\\\Users\\Anastassia Kolde\\\\Documents\\\\Israel secondment\\\\dictionary_19.01.23.csv\"\n",
    "data_file_name = r\"C:\\\\Users\\Anastassia Kolde\\\\Documents\\\\Israel secondment\\\\Data\\test_train_drugs_1st_index.csv\"\n",
    "X_train,y_train,X_test,y_test = load_data(change_name_file,data_file_name, outcome_col=\"outcome_primary\")\n",
    "\n",
    "cols=X_train.columns[-6:]\n",
    "X = X_train.drop(\"outcome_any\", axis = 1)  \n",
    "Xs = X_test.drop(\"outcome_any\", axis = 1)  \n",
    "X.sort_index(inplace=True)\n",
    "Xs.sort_index(inplace=True)\n",
    "\n",
    "stbl = X_train[cols].sum().reset_index().set_axis(['drug', 'count'], axis=1).assign(weight=lambda df: df['count'])\n",
    "\n",
    "wtbl = merge(\n",
    "    melt(X_train[cols].reset_index(), id_vars=['id'], var_name='drug')\n",
    "    .pipe(lambda df: df[df['value'] == 1])\n",
    "    [['id', 'drug']],\n",
    "    stbl,\n",
    "    on='drug',\n",
    "    how='left'\n",
    ")[['id', 'weight']].set_index('id')\n",
    "\n",
    "weights = wtbl.loc[X.index.values, 'weight']\n",
    "\n",
    "##XGBoost\n",
    "xgbc = XGBClassifier()\n",
    "model_xg = xgbc.fit(X, y_train.loc[X.index], sample_weight=weights)\n",
    "\n",
    "##Logistic\n",
    "##lr = LogisticRegression()\n",
    "##model_lr = lr.fit(X, y_train.loc[X.index], sample_weight=weights)"
   ]
  },
  {
   "cell_type": "code",
   "execution_count": 12,
   "id": "0e2a1de0",
   "metadata": {},
   "outputs": [
    {
     "data": {
      "text/plain": [
       "0.5849262317899229"
      ]
     },
     "execution_count": 12,
     "metadata": {},
     "output_type": "execute_result"
    }
   ],
   "source": [
    "#AUC test\n",
    "probs_xg = model_xg.predict_proba(Xs)[:, 1]\n",
    "auc_xg = roc_auc_score(y_test.loc[Xs.index], probs_xg)\n",
    "auc_xg"
   ]
  },
  {
   "cell_type": "code",
   "execution_count": 13,
   "id": "e763df4d",
   "metadata": {},
   "outputs": [
    {
     "data": {
      "text/plain": [
       "1.0"
      ]
     },
     "execution_count": 13,
     "metadata": {},
     "output_type": "execute_result"
    }
   ],
   "source": [
    "#AUC train\n",
    "probs_xg = model_xg.predict_proba(X)[:, 1]\n",
    "auc_xg = roc_auc_score(y_train.loc[X.index], probs_xg)\n",
    "auc_xg"
   ]
  }
 ],
 "metadata": {
  "kernelspec": {
   "display_name": "Python 3 (ipykernel)",
   "language": "python",
   "name": "python3"
  },
  "language_info": {
   "codemirror_mode": {
    "name": "ipython",
    "version": 3
   },
   "file_extension": ".py",
   "mimetype": "text/x-python",
   "name": "python",
   "nbconvert_exporter": "python",
   "pygments_lexer": "ipython3",
   "version": "3.8.15"
  }
 },
 "nbformat": 4,
 "nbformat_minor": 5
}
