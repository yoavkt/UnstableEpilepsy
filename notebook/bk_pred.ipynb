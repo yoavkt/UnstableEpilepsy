{
 "cells": [
  {
   "cell_type": "code",
   "execution_count": 6,
   "metadata": {},
   "outputs": [],
   "source": [
    "import pandas as pd\n",
    "from epilepsy_prediction import load_prediction_model,fuse_string,evaluate_model"
   ]
  },
  {
   "cell_type": "code",
   "execution_count": 7,
   "metadata": {},
   "outputs": [],
   "source": [
    "def load_data(drug_name,file_name='/Users/yoavkt/Documents/epilepsy_data/{}_data.pkl'):\n",
    "    data = pd.read_pickle(file_name.format(drug_name))\n",
    "    return data['X'],data['y']"
   ]
  },
  {
   "cell_type": "code",
   "execution_count": 8,
   "metadata": {},
   "outputs": [],
   "source": [
    "drug_name=\"carbamazepine\"\n",
    "clf_mk = load_prediction_model(drug_name)\n",
    "drug_name=\"est_carba\"\n",
    "clf_bi = load_prediction_model(drug_name)\n",
    "drug_name = 'carbamazepine'\n",
    "X,y = load_data(drug_name)"
   ]
  },
  {
   "cell_type": "code",
   "execution_count": 4,
   "metadata": {},
   "outputs": [
    {
     "name": "stdout",
     "output_type": "stream",
     "text": [
      "Results:\n",
      "\n",
      "Metric auc1:\n",
      "------------------------------------------------\n",
      "org:\n",
      "0.7411711952961847\n",
      "mean:\n",
      "0.7411077736443009\n",
      "std:\n",
      "0.012562845705715114\n",
      "conf_interval:\n",
      "95\n",
      "conf_lower:\n",
      "0.716107523484399\n",
      "conf_upper:\n",
      "0.7655803285889324\n",
      "\n",
      "Metric auc2:\n",
      "------------------------------------------------\n",
      "org:\n",
      "0.6307010834803918\n",
      "mean:\n",
      "0.6305634273351468\n",
      "std:\n",
      "0.01334549645748438\n",
      "conf_interval:\n",
      "95\n",
      "conf_lower:\n",
      "0.6042965468878836\n",
      "conf_upper:\n",
      "0.6566750406497799\n",
      "\n",
      "Metric mcnemar_test:\n",
      "------------------------------------------------\n",
      "p_value:\n",
      "0.03806366960413442\n",
      "statistic:\n",
      "71.0\n",
      "n1:\n",
      "99.0\n",
      "n2:\n",
      "71.0\n",
      "\n",
      "Metric delong_test:\n",
      "------------------------------------------------\n",
      "p_value:\n",
      "2.2683800040159284e-16\n",
      "z:\n",
      "8.206971173643009\n",
      "auc1:\n",
      "0.7411711952961847\n",
      "auc2:\n",
      "0.6307010834803918\n",
      "cov11:\n",
      "0.00015657571232559572\n",
      "cov12:\n",
      "7.731947510668091e-05\n",
      "cov22:\n",
      "0.00017924887655622966\n",
      "\n"
     ]
    }
   ],
   "source": [
    "eval = evaluate_model(clf_mk,clf_bi,X,y.astype(int))\n",
    "rep = fuse_string(eval)"
   ]
  },
  {
   "cell_type": "code",
   "execution_count": 5,
   "metadata": {},
   "outputs": [
    {
     "name": "stdout",
     "output_type": "stream",
     "text": [
      "auc1: 0.74 (upper: 0.77, lower: 0.72) \n",
      " auc2: 0.63 (upper: 0.66, lower: 0.60) \n",
      " mcnemar_test: p-value 0.038 \n",
      " delong_test: p-value 0.000 \n",
      " \n"
     ]
    }
   ],
   "source": [
    "print(rep)"
   ]
  },
  {
   "cell_type": "code",
   "execution_count": 18,
   "metadata": {},
   "outputs": [
    {
     "name": "stdout",
     "output_type": "stream",
     "text": [
      "Results:\n",
      "\n",
      "Metric auc1:\n",
      "------------------------------------------------\n",
      "org:\n",
      "0.7411711952961847\n",
      "mean:\n",
      "0.7411077736443009\n",
      "std:\n",
      "0.012562845705715114\n",
      "conf_interval:\n",
      "95\n",
      "conf_lower:\n",
      "0.716107523484399\n",
      "conf_upper:\n",
      "0.7655803285889324\n",
      "\n",
      "Metric auc2:\n",
      "------------------------------------------------\n",
      "org:\n",
      "0.6342011065987501\n",
      "mean:\n",
      "0.6342878831867886\n",
      "std:\n",
      "0.013836444200835131\n",
      "conf_interval:\n",
      "95\n",
      "conf_lower:\n",
      "0.6069219254510007\n",
      "conf_upper:\n",
      "0.6609032920542202\n",
      "\n",
      "Metric mcnemar_test:\n",
      "------------------------------------------------\n",
      "p_value:\n",
      "0.011751828037832798\n",
      "statistic:\n",
      "74.0\n",
      "n1:\n",
      "109.0\n",
      "n2:\n",
      "74.0\n",
      "\n",
      "Metric delong_test:\n",
      "------------------------------------------------\n",
      "p_value:\n",
      "7.136414911490942e-16\n",
      "z:\n",
      "8.068162287414328\n",
      "auc1:\n",
      "0.7411711952961847\n",
      "auc2:\n",
      "0.6342011065987501\n",
      "cov11:\n",
      "0.00015657571232559572\n",
      "cov12:\n",
      "8.703285448126036e-05\n",
      "cov22:\n",
      "0.00019327242561356883\n",
      "\n"
     ]
    }
   ],
   "source": [
    "drug_name=\"est_carba_new_out\"\n",
    "clf_binout = load_prediction_model(drug_name)\n",
    "eval = evaluate_model(clf_mk,clf_binout,X,y.astype(int))\n",
    "rep = fuse_string(eval)"
   ]
  },
  {
   "cell_type": "code",
   "execution_count": 19,
   "metadata": {},
   "outputs": [
    {
     "name": "stdout",
     "output_type": "stream",
     "text": [
      "auc1: 0.74 (upper: 0.77, lower: 0.72) \n",
      " auc2: 0.63 (upper: 0.66, lower: 0.61) \n",
      " mcnemar_test: p-value 0.012 \n",
      " delong_test: p-value 0.000 \n",
      " \n"
     ]
    }
   ],
   "source": [
    "print(rep)"
   ]
  }
 ],
 "metadata": {
  "kernelspec": {
   "display_name": "Python 3.9.12 ('epi9')",
   "language": "python",
   "name": "python3"
  },
  "language_info": {
   "codemirror_mode": {
    "name": "ipython",
    "version": 3
   },
   "file_extension": ".py",
   "mimetype": "text/x-python",
   "name": "python",
   "nbconvert_exporter": "python",
   "pygments_lexer": "ipython3",
   "version": "3.9.12 (main, Jun  1 2022, 06:36:29) \n[Clang 12.0.0 ]"
  },
  "orig_nbformat": 4,
  "vscode": {
   "interpreter": {
    "hash": "ddd9f49c652c6d182f69755b7ee5e124f86cbddecfc26f23757e5e4f41f4cab8"
   }
  }
 },
 "nbformat": 4,
 "nbformat_minor": 2
}
