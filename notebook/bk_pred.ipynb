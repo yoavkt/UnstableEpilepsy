{
 "cells": [
  {
   "cell_type": "code",
   "execution_count": 1,
   "metadata": {},
   "outputs": [
    {
     "name": "stderr",
     "output_type": "stream",
     "text": [
      "/opt/miniconda3/envs/epi9/lib/python3.9/site-packages/tqdm/auto.py:22: TqdmWarning: IProgress not found. Please update jupyter and ipywidgets. See https://ipywidgets.readthedocs.io/en/stable/user_install.html\n",
      "  from .autonotebook import tqdm as notebook_tqdm\n"
     ]
    }
   ],
   "source": [
    "import pandas as pd\n",
    "from epilepsy_prediction import load_prediction_model,fuse_string,evaluate_model"
   ]
  },
  {
   "cell_type": "code",
   "execution_count": 2,
   "metadata": {},
   "outputs": [],
   "source": [
    "def load_data(drug_name,file_name='/Users/yoavkt/Documents/epilepsy_data/{}_data.pkl'):\n",
    "    data = pd.read_pickle(file_name.format(drug_name))\n",
    "    return data['X'],data['y']"
   ]
  },
  {
   "cell_type": "code",
   "execution_count": 3,
   "metadata": {},
   "outputs": [],
   "source": [
    "drug_name=\"carbamazepine\"\n",
    "clf_mk = load_prediction_model(drug_name)\n",
    "drug_name=\"est_carba\"\n",
    "clf_bi = load_prediction_model(drug_name)\n",
    "drug_name = 'carbamazepine'\n",
    "X,y = load_data(drug_name)"
   ]
  },
  {
   "cell_type": "code",
   "execution_count": 4,
   "metadata": {},
   "outputs": [
    {
     "name": "stdout",
     "output_type": "stream",
     "text": [
      "Results:\n",
      "\n",
      "Metric auc1:\n",
      "------------------------------------------------\n",
      "org:\n",
      "0.7411711952961847\n",
      "mean:\n",
      "0.7411077736443009\n",
      "std:\n",
      "0.012562845705715114\n",
      "conf_interval:\n",
      "95\n",
      "conf_lower:\n",
      "0.716107523484399\n",
      "conf_upper:\n",
      "0.7655803285889324\n",
      "\n",
      "Metric auc2:\n",
      "------------------------------------------------\n",
      "org:\n",
      "0.6307010834803918\n",
      "mean:\n",
      "0.6305634273351468\n",
      "std:\n",
      "0.01334549645748438\n",
      "conf_interval:\n",
      "95\n",
      "conf_lower:\n",
      "0.6042965468878836\n",
      "conf_upper:\n",
      "0.6566750406497799\n",
      "\n",
      "Metric mcnemar_test:\n",
      "------------------------------------------------\n",
      "p_value:\n",
      "0.03806366960413442\n",
      "statistic:\n",
      "71.0\n",
      "n1:\n",
      "99.0\n",
      "n2:\n",
      "71.0\n",
      "\n",
      "Metric delong_test:\n",
      "------------------------------------------------\n",
      "p_value:\n",
      "2.2683800040159284e-16\n",
      "z:\n",
      "8.206971173643009\n",
      "auc1:\n",
      "0.7411711952961847\n",
      "auc2:\n",
      "0.6307010834803918\n",
      "cov11:\n",
      "0.00015657571232559572\n",
      "cov12:\n",
      "7.731947510668091e-05\n",
      "cov22:\n",
      "0.00017924887655622966\n",
      "\n"
     ]
    }
   ],
   "source": [
    "eval = evaluate_model(clf_mk,clf_bi,X,y.astype(int))\n",
    "rep = fuse_string(eval)"
   ]
  },
  {
   "cell_type": "code",
   "execution_count": 5,
   "metadata": {},
   "outputs": [
    {
     "name": "stdout",
     "output_type": "stream",
     "text": [
      "auc1: 0.74 (upper: 0.77, lower: 0.72) \n",
      " auc2: 0.63 (upper: 0.66, lower: 0.60) \n",
      " mcnemar_test: p-value 0.038 \n",
      " delong_test: p-value 0.000 \n",
      " \n"
     ]
    }
   ],
   "source": [
    "print(rep)"
   ]
  }
 ],
 "metadata": {
  "kernelspec": {
   "display_name": "Python 3.9.12 ('epi9')",
   "language": "python",
   "name": "python3"
  },
  "language_info": {
   "codemirror_mode": {
    "name": "ipython",
    "version": 3
   },
   "file_extension": ".py",
   "mimetype": "text/x-python",
   "name": "python",
   "nbconvert_exporter": "python",
   "pygments_lexer": "ipython3",
   "version": "3.9.12"
  },
  "orig_nbformat": 4,
  "vscode": {
   "interpreter": {
    "hash": "ddd9f49c652c6d182f69755b7ee5e124f86cbddecfc26f23757e5e4f41f4cab8"
   }
  }
 },
 "nbformat": 4,
 "nbformat_minor": 2
}
