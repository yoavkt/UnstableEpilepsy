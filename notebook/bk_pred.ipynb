{
 "cells": [
  {
   "cell_type": "code",
   "execution_count": 1,
   "metadata": {},
   "outputs": [
    {
     "name": "stderr",
     "output_type": "stream",
     "text": [
      "/opt/miniconda3/envs/epi9/lib/python3.9/site-packages/tqdm/auto.py:22: TqdmWarning: IProgress not found. Please update jupyter and ipywidgets. See https://ipywidgets.readthedocs.io/en/stable/user_install.html\n",
      "  from .autonotebook import tqdm as notebook_tqdm\n"
     ]
    }
   ],
   "source": [
    "from sklearn import metrics\n",
    "import pandas as pd\n",
    "from epilepsy_prediction import load_model, data_preprocess\n",
    "from fuse.eval.metrics.metrics_common import  CI\n",
    "\n",
    "from copy import deepcopy\n",
    "from statsmodels.stats.contingency_tables import mcnemar\n",
    "from sklearn.metrics import confusion_matrix\n",
    "from collections import OrderedDict\n",
    "from fuse.eval.metrics.metrics_common import CI\n",
    "from fuse.eval.metrics.classification.metrics_classification_common import (\n",
    "    MetricAUCROC,\n",
    ")\n",
    "from fuse.eval.metrics.classification.metrics_model_comparison_common import (\n",
    "    MetricDelongsTest,\n",
    "    MetricMcnemarsTest,\n",
    ")\n",
    "from fuse.eval.evaluator import EvaluatorDefault\n",
    "\n",
    "seed =543463469"
   ]
  },
  {
   "cell_type": "code",
   "execution_count": 2,
   "metadata": {},
   "outputs": [],
   "source": [
    "def prepare_fuse_data(clf,clf2,X,y):\n",
    "    res = pd.DataFrame(columns=['pred','target','id'])\n",
    "    res['id']=X.index\n",
    "    res['pred1'] = clf.predict(X).squeeze()\n",
    "    res['pred2'] = clf2.predict(X).squeeze()\n",
    "    res['pred_proba1'] = clf.predict_proba(X)[:,1].squeeze()\n",
    "    res['pred_proba2'] = clf2.predict_proba(X)[:,1].squeeze()\n",
    "    res['target'] = y.astype(int).values  \n",
    "    return res\n",
    "\n",
    "def fuse_string(results):\n",
    "    sum = []\n",
    "    for k,v in results['metrics'].items():\n",
    "        if 'auc' in k:\n",
    "            sum.append(k + f\": {v['mean']:.2f} (upper: {v['conf_upper']:.2f}, lower: {v['conf_lower']:.2f}) \\n \")\n",
    "        if 'mcnemar' in k or 'delong' in k:\n",
    "            sum.append(k + f\": p-value {v['p_value']:.3f} \\n \")\n",
    "    return ''.join(sum)\n",
    "\n",
    "def load_data(drug_name,file_name='/Users/yoavkt/Documents/epilepsy_data/{}_data.pkl'):\n",
    "    data = pd.read_pickle(file_name.format(drug_name))\n",
    "    return data['X'],data['y']"
   ]
  },
  {
   "cell_type": "code",
   "execution_count": 3,
   "metadata": {},
   "outputs": [],
   "source": [
    "drug_name=\"carbamazepine\"\n",
    "clf_mk = load_model(drug_name)\n",
    "drug_name=\"est_carba\"\n",
    "clf_bi = load_model(drug_name)\n",
    "drug_name = 'carbamazepine'\n",
    "X,y = load_data(drug_name)"
   ]
  },
  {
   "cell_type": "code",
   "execution_count": 4,
   "metadata": {},
   "outputs": [
    {
     "name": "stdout",
     "output_type": "stream",
     "text": [
      "Results:\n",
      "\n",
      "Metric auc1:\n",
      "------------------------------------------------\n",
      "org:\n",
      "0.5\n",
      "mean:\n",
      "0.5\n",
      "std:\n",
      "0.0\n",
      "conf_interval:\n",
      "95\n",
      "conf_lower:\n",
      "0.5\n",
      "conf_upper:\n",
      "0.5\n",
      "\n",
      "Metric auc2:\n",
      "------------------------------------------------\n",
      "org:\n",
      "0.5814392333952392\n",
      "mean:\n",
      "0.5813652127466922\n",
      "std:\n",
      "0.009033053817870744\n",
      "conf_interval:\n",
      "95\n",
      "conf_lower:\n",
      "0.5640523014325676\n",
      "conf_upper:\n",
      "0.5995515038492067\n",
      "\n",
      "Metric mcnemar_test:\n",
      "------------------------------------------------\n",
      "p_value:\n",
      "0.03806366960413442\n",
      "statistic:\n",
      "71.0\n",
      "n1:\n",
      "71.0\n",
      "n2:\n",
      "99.0\n",
      "\n",
      "Metric delong_test:\n",
      "------------------------------------------------\n",
      "p_value:\n",
      "2.2683800040159284e-16\n",
      "z:\n",
      "-8.206971173643009\n",
      "auc1:\n",
      "0.6307010834803918\n",
      "auc2:\n",
      "0.7411711952961847\n",
      "cov11:\n",
      "0.00017924887655622966\n",
      "cov12:\n",
      "7.731947510668091e-05\n",
      "cov22:\n",
      "0.00015657571232559572\n",
      "\n"
     ]
    }
   ],
   "source": [
    "metrics = OrderedDict([\n",
    "                (\"auc1\", CI(MetricAUCROC(pred=\"pred1\", target=\"target\"), \n",
    "                       stratum=\"target\", rnd_seed=seed)),\n",
    "            (\"auc2\", CI(MetricAUCROC(pred=\"pred2\", target=\"target\"), \n",
    "                       stratum=\"target\", rnd_seed=seed)),\n",
    "            (\"mcnemar_test\", \n",
    "            MetricMcnemarsTest(pred1=\"pred1\", pred2=\"pred2\",target=\"target\")),\n",
    "            ('delong_test',\n",
    "            MetricDelongsTest(pred1=\"pred_proba1\", pred2=\"pred_proba2\",target=\"target\"))\n",
    "        ])\n",
    "evaluator = EvaluatorDefault()\n",
    "results = evaluator.eval(ids=None, data=prepare_fuse_data(clf_bi,clf_mk,X,y), metrics=metrics) \n"
   ]
  },
  {
   "cell_type": "code",
   "execution_count": 5,
   "metadata": {},
   "outputs": [
    {
     "data": {
      "text/plain": [
       "'auc1: 0.50 (upper: 0.50, lower: 0.50) \\n auc2: 0.58 (upper: 0.60, lower: 0.56) \\n mcnemar_test: p-value 0.038 \\n delong_test: p-value 0.000 \\n '"
      ]
     },
     "execution_count": 5,
     "metadata": {},
     "output_type": "execute_result"
    }
   ],
   "source": [
    "fuse_string(results)"
   ]
  }
 ],
 "metadata": {
  "kernelspec": {
   "display_name": "Python 3.9.12 ('epi9')",
   "language": "python",
   "name": "python3"
  },
  "language_info": {
   "codemirror_mode": {
    "name": "ipython",
    "version": 3
   },
   "file_extension": ".py",
   "mimetype": "text/x-python",
   "name": "python",
   "nbconvert_exporter": "python",
   "pygments_lexer": "ipython3",
   "version": "3.9.12"
  },
  "orig_nbformat": 4,
  "vscode": {
   "interpreter": {
    "hash": "ddd9f49c652c6d182f69755b7ee5e124f86cbddecfc26f23757e5e4f41f4cab8"
   }
  }
 },
 "nbformat": 4,
 "nbformat_minor": 2
}
