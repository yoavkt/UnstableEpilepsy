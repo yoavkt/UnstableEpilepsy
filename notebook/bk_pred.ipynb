{
 "cells": [
  {
   "cell_type": "code",
   "execution_count": 2,
   "metadata": {},
   "outputs": [],
   "source": [
    "from sklearn import metrics\n",
    "import pandas as pd\n",
    "from epilepsy_prediction import load_model, data_preprocess\n",
    "from copy import deepcopy"
   ]
  },
  {
   "cell_type": "code",
   "execution_count": 3,
   "metadata": {},
   "outputs": [
    {
     "ename": "XGBoostError",
     "evalue": "[16:53:22] /Users/runner/work/xgboost/xgboost/python-package/build/temp.macosx-10.9-x86_64-3.7/xgboost/dmlc-core/src/io/local_filesys.cc:209: Check failed: allow_null:  LocalFileSystem::Open \"../models/carbamazepine.xgb\": No such file or directory\nStack trace:\n  [bt] (0) 1   libxgboost.dylib                    0x000000013dace845 dmlc::LogMessageFatal::~LogMessageFatal() + 117\n  [bt] (1) 2   libxgboost.dylib                    0x000000013dd2f6ad dmlc::io::LocalFileSystem::Open(dmlc::io::URI const&, char const*, bool) + 861\n  [bt] (2) 3   libxgboost.dylib                    0x000000013dd1408e dmlc::Stream::Create(char const*, char const*, bool) + 62\n  [bt] (3) 4   libxgboost.dylib                    0x000000013dad7757 XGBoosterLoadModel + 679\n  [bt] (4) 5   libffi.7.dylib                      0x0000000109381ead ffi_call_unix64 + 85\n  [bt] (5) 6   ???                                 0x00007ff7b71dc650 0x0 + 140701905831504\n\n",
     "output_type": "error",
     "traceback": [
      "\u001b[0;31m---------------------------------------------------------------------------\u001b[0m",
      "\u001b[0;31mXGBoostError\u001b[0m                              Traceback (most recent call last)",
      "\u001b[1;32mUntitled-1.ipynb Cell 2\u001b[0m in \u001b[0;36m<cell line: 2>\u001b[0;34m()\u001b[0m\n\u001b[1;32m      <a href='vscode-notebook-cell:Untitled-1.ipynb?jupyter-notebook#ch0000001untitled?line=0'>1</a>\u001b[0m drug_name\u001b[39m=\u001b[39m\u001b[39m\"\u001b[39m\u001b[39mcarbamazepine\u001b[39m\u001b[39m\"\u001b[39m\n\u001b[0;32m----> <a href='vscode-notebook-cell:Untitled-1.ipynb?jupyter-notebook#ch0000001untitled?line=1'>2</a>\u001b[0m clf_bio \u001b[39m=\u001b[39m load_model(drug_name)\n\u001b[1;32m      <a href='vscode-notebook-cell:Untitled-1.ipynb?jupyter-notebook#ch0000001untitled?line=2'>3</a>\u001b[0m drug_name\u001b[39m=\u001b[39m\u001b[39m\"\u001b[39m\u001b[39mest_carba\u001b[39m\u001b[39m\"\u001b[39m\n\u001b[1;32m      <a href='vscode-notebook-cell:Untitled-1.ipynb?jupyter-notebook#ch0000001untitled?line=3'>4</a>\u001b[0m clf_est \u001b[39m=\u001b[39m load_model(drug_name)\n",
      "File \u001b[0;32m~/Documents/CODE/UnstableEpilepsy/epilepsy_prediction/epilepsy_prediction/utils.py:34\u001b[0m, in \u001b[0;36mload_model\u001b[0;34m(drug_name)\u001b[0m\n\u001b[1;32m     32\u001b[0m model \u001b[39m=\u001b[39m xgb\u001b[39m.\u001b[39mXGBClassifier()\n\u001b[1;32m     33\u001b[0m clf \u001b[39m=\u001b[39m \u001b[39mf\u001b[39m\u001b[39m'\u001b[39m\u001b[39m../models/\u001b[39m\u001b[39m{\u001b[39;00mdrug_name\u001b[39m}\u001b[39;00m\u001b[39m.xgb\u001b[39m\u001b[39m'\u001b[39m\n\u001b[0;32m---> 34\u001b[0m model\u001b[39m.\u001b[39;49mload_model(clf)\n\u001b[1;32m     35\u001b[0m \u001b[39mreturn\u001b[39;00m model\n",
      "File \u001b[0;32m/opt/miniconda3/envs/epi/lib/python3.10/site-packages/xgboost/sklearn.py:736\u001b[0m, in \u001b[0;36mXGBModel.load_model\u001b[0;34m(self, fname)\u001b[0m\n\u001b[1;32m    734\u001b[0m \u001b[39mif\u001b[39;00m \u001b[39mnot\u001b[39;00m \u001b[39mhasattr\u001b[39m(\u001b[39mself\u001b[39m, \u001b[39m'\u001b[39m\u001b[39m_Booster\u001b[39m\u001b[39m'\u001b[39m):\n\u001b[1;32m    735\u001b[0m     \u001b[39mself\u001b[39m\u001b[39m.\u001b[39m_Booster \u001b[39m=\u001b[39m Booster({\u001b[39m'\u001b[39m\u001b[39mn_jobs\u001b[39m\u001b[39m'\u001b[39m: \u001b[39mself\u001b[39m\u001b[39m.\u001b[39mn_jobs})\n\u001b[0;32m--> 736\u001b[0m \u001b[39mself\u001b[39;49m\u001b[39m.\u001b[39;49mget_booster()\u001b[39m.\u001b[39;49mload_model(fname)\n\u001b[1;32m    737\u001b[0m meta_str \u001b[39m=\u001b[39m \u001b[39mself\u001b[39m\u001b[39m.\u001b[39mget_booster()\u001b[39m.\u001b[39mattr(\u001b[39m'\u001b[39m\u001b[39mscikit_learn\u001b[39m\u001b[39m'\u001b[39m)\n\u001b[1;32m    738\u001b[0m \u001b[39mif\u001b[39;00m meta_str \u001b[39mis\u001b[39;00m \u001b[39mNone\u001b[39;00m:\n\u001b[1;32m    739\u001b[0m     \u001b[39m# FIXME(jiaming): This doesn't have to be a problem as most of the needed\u001b[39;00m\n\u001b[1;32m    740\u001b[0m     \u001b[39m# information like num_class and objective is in Learner class.\u001b[39;00m\n",
      "File \u001b[0;32m/opt/miniconda3/envs/epi/lib/python3.10/site-packages/xgboost/core.py:2249\u001b[0m, in \u001b[0;36mBooster.load_model\u001b[0;34m(self, fname)\u001b[0m\n\u001b[1;32m   2245\u001b[0m \u001b[39mif\u001b[39;00m \u001b[39misinstance\u001b[39m(fname, (\u001b[39mstr\u001b[39m, os\u001b[39m.\u001b[39mPathLike)):\n\u001b[1;32m   2246\u001b[0m     \u001b[39m# assume file name, cannot use os.path.exist to check, file can be\u001b[39;00m\n\u001b[1;32m   2247\u001b[0m     \u001b[39m# from URL.\u001b[39;00m\n\u001b[1;32m   2248\u001b[0m     fname \u001b[39m=\u001b[39m os\u001b[39m.\u001b[39mfspath(os\u001b[39m.\u001b[39mpath\u001b[39m.\u001b[39mexpanduser(fname))\n\u001b[0;32m-> 2249\u001b[0m     _check_call(_LIB\u001b[39m.\u001b[39;49mXGBoosterLoadModel(\n\u001b[1;32m   2250\u001b[0m         \u001b[39mself\u001b[39;49m\u001b[39m.\u001b[39;49mhandle, c_str(fname)))\n\u001b[1;32m   2251\u001b[0m \u001b[39melif\u001b[39;00m \u001b[39misinstance\u001b[39m(fname, \u001b[39mbytearray\u001b[39m):\n\u001b[1;32m   2252\u001b[0m     buf \u001b[39m=\u001b[39m fname\n",
      "File \u001b[0;32m/opt/miniconda3/envs/epi/lib/python3.10/site-packages/xgboost/core.py:203\u001b[0m, in \u001b[0;36m_check_call\u001b[0;34m(ret)\u001b[0m\n\u001b[1;32m    192\u001b[0m \u001b[39m\"\"\"Check the return value of C API call\u001b[39;00m\n\u001b[1;32m    193\u001b[0m \n\u001b[1;32m    194\u001b[0m \u001b[39mThis function will raise exception when error occurs.\u001b[39;00m\n\u001b[0;32m   (...)\u001b[0m\n\u001b[1;32m    200\u001b[0m \u001b[39m    return value from API calls\u001b[39;00m\n\u001b[1;32m    201\u001b[0m \u001b[39m\"\"\"\u001b[39;00m\n\u001b[1;32m    202\u001b[0m \u001b[39mif\u001b[39;00m ret \u001b[39m!=\u001b[39m \u001b[39m0\u001b[39m:\n\u001b[0;32m--> 203\u001b[0m     \u001b[39mraise\u001b[39;00m XGBoostError(py_str(_LIB\u001b[39m.\u001b[39mXGBGetLastError()))\n",
      "\u001b[0;31mXGBoostError\u001b[0m: [16:53:22] /Users/runner/work/xgboost/xgboost/python-package/build/temp.macosx-10.9-x86_64-3.7/xgboost/dmlc-core/src/io/local_filesys.cc:209: Check failed: allow_null:  LocalFileSystem::Open \"../models/carbamazepine.xgb\": No such file or directory\nStack trace:\n  [bt] (0) 1   libxgboost.dylib                    0x000000013dace845 dmlc::LogMessageFatal::~LogMessageFatal() + 117\n  [bt] (1) 2   libxgboost.dylib                    0x000000013dd2f6ad dmlc::io::LocalFileSystem::Open(dmlc::io::URI const&, char const*, bool) + 861\n  [bt] (2) 3   libxgboost.dylib                    0x000000013dd1408e dmlc::Stream::Create(char const*, char const*, bool) + 62\n  [bt] (3) 4   libxgboost.dylib                    0x000000013dad7757 XGBoosterLoadModel + 679\n  [bt] (4) 5   libffi.7.dylib                      0x0000000109381ead ffi_call_unix64 + 85\n  [bt] (5) 6   ???                                 0x00007ff7b71dc650 0x0 + 140701905831504\n\n"
     ]
    }
   ],
   "source": [
    "drug_name=\"carbamazepine\"\n",
    "clf_bio = load_model(drug_name)\n",
    "drug_name=\"est_carba\"\n",
    "clf_est = load_model(drug_name)"
   ]
  }
 ],
 "metadata": {
  "kernelspec": {
   "display_name": "Python 3.10.4 ('epi')",
   "language": "python",
   "name": "python3"
  },
  "language_info": {
   "codemirror_mode": {
    "name": "ipython",
    "version": 3
   },
   "file_extension": ".py",
   "mimetype": "text/x-python",
   "name": "python",
   "nbconvert_exporter": "python",
   "pygments_lexer": "ipython3",
   "version": "3.10.4"
  },
  "orig_nbformat": 4,
  "vscode": {
   "interpreter": {
    "hash": "d2aee14a35e5b37e74a46026c5bd6327b444e5875d6cd6c809703b0a85b0bfa1"
   }
  }
 },
 "nbformat": 4,
 "nbformat_minor": 2
}
