{
 "cells": [
  {
   "cell_type": "code",
   "execution_count": 55,
   "metadata": {},
   "outputs": [],
   "source": [
    "from sklearn import metrics\n",
    "import pandas as pd\n",
    "from epilepsy_prediction import load_model, data_preprocess\n",
    "from copy import deepcopy"
   ]
  },
  {
   "cell_type": "markdown",
   "metadata": {},
   "source": [
    "# How to predict"
   ]
  },
  {
   "cell_type": "markdown",
   "metadata": {},
   "source": [
    "Loading the model, we can select between: Carbamazepine, Gabapentin, Lamotrigine, Levetiracetam, Oxcarbazepine, Phenytoin,Topiramate,Valproate. "
   ]
  },
  {
   "cell_type": "code",
   "execution_count": 25,
   "metadata": {},
   "outputs": [],
   "source": [
    "def load_data(change_name_file,data_file_name):\n",
    "    data_df = pd.read_csv(data_file_name, index_col=0)\n",
    "    new_name_df = pd.read_csv(change_name_file,index_col=0)\n",
    "    data_df.rename(new_name_df['marketscan'].to_dict(),inplace=True,axis=1)\n",
    "    y_train = data_df.loc[data_df[\"test_train\"]==\"train\",\"outcome\"]\n",
    "    X_train = data_df.loc[data_df[\"test_train\"]==\"train\",~( data_df.columns.isin([\"outcome\",\"test_train\"]))]\n",
    "    y_test = data_df.loc[~(data_df[\"test_train\"]==\"train\"),\"outcome\"]\n",
    "    X_test = data_df.loc[~(data_df[\"test_train\"]==\"train\"),~ (data_df.columns.isin([\"outcome\",\"test_train\"]))]\n",
    "    return X_train,y_train,X_test,y_test\n"
   ]
  },
  {
   "cell_type": "code",
   "execution_count": 26,
   "metadata": {},
   "outputs": [],
   "source": [
    "change_name_file=r\"C:\\\\Users\\Anastassia Kolde\\\\Documents\\\\Israel secondment\\\\dictionary.csv\"\n",
    "data_file_name = r\"C:\\\\Users\\Anastassia Kolde\\\\Documents\\\\Israel secondment\\\\Data\\test_train_epilepsy.csv\"\n",
    "X_train,y_train,X_test,y_test = load_data(change_name_file,data_file_name)"
   ]
  },
  {
   "cell_type": "code",
   "execution_count": 48,
   "metadata": {},
   "outputs": [],
   "source": [
    "drug_name=\"carbamazepine\"\n",
    "clf = load_model(drug_name)\n",
    "X = data_preprocess(X_train,impute_drug=drug_name)\n",
    "Xs = data_preprocess(X_test,impute_drug=drug_name)"
   ]
  },
  {
   "cell_type": "markdown",
   "metadata": {},
   "source": [
    "Now we can use the model for prediction"
   ]
  },
  {
   "cell_type": "code",
   "execution_count": 53,
   "metadata": {},
   "outputs": [
    {
     "data": {
      "text/plain": [
       "array([0.06694608, 0.09075577, 0.07334748, 0.1159572 , 0.10360754,\n",
       "       0.06361528, 0.10124642, 0.07478034, 0.12461335, 0.12461335,\n",
       "       0.07334748, 0.09381564, 0.07138256, 0.09305462, 0.10976394,\n",
       "       0.07138256, 0.08397277, 0.07334748, 0.12596226, 0.10235905,\n",
       "       0.1057588 , 0.06330032, 0.10975592, 0.09954707, 0.11266671,\n",
       "       0.09516533, 0.0898979 , 0.10629261, 0.14225903, 0.08391568,\n",
       "       0.0842263 , 0.10561882, 0.06852754, 0.08650573, 0.11709154,\n",
       "       0.10629261, 0.12461335, 0.09964605, 0.1177742 , 0.14653839,\n",
       "       0.10534055, 0.08289781, 0.0756985 , 0.10144446, 0.12337554,\n",
       "       0.07855831, 0.06060068, 0.10754349, 0.07471661, 0.07684517,\n",
       "       0.09075577, 0.09620225, 0.08290401, 0.11515205, 0.05954343,\n",
       "       0.05984623, 0.1290574 , 0.06060068, 0.06703734, 0.09385278,\n",
       "       0.07025148, 0.07329042, 0.11020409, 0.10144446, 0.08507597,\n",
       "       0.10195899, 0.09032531, 0.09860592, 0.07305723, 0.06234683,\n",
       "       0.0973983 , 0.06060068, 0.09427155, 0.08180156, 0.07868897,\n",
       "       0.10561112, 0.08062196, 0.07079821, 0.07108897, 0.10144446,\n",
       "       0.06756234, 0.06060068, 0.07051913, 0.1057588 , 0.08290401,\n",
       "       0.11963283, 0.08561581, 0.097934  , 0.07940785, 0.10538735,\n",
       "       0.10857528, 0.08277315, 0.08565466, 0.07046543, 0.12243375,\n",
       "       0.10344844, 0.06499511, 0.08279323, 0.08203841, 0.10233428,\n",
       "       0.06327249, 0.08924893, 0.08746014, 0.09790966, 0.09032531,\n",
       "       0.11060885, 0.08751351, 0.08621883, 0.07033949, 0.07087575,\n",
       "       0.06060068, 0.07293362, 0.10144446, 0.06032603, 0.06847371,\n",
       "       0.09517007, 0.06556029, 0.07427116, 0.07258217, 0.07025148,\n",
       "       0.07488968, 0.08180156, 0.07341097, 0.10047972, 0.11066085,\n",
       "       0.10638629, 0.06174855, 0.07604659, 0.1125346 , 0.15548165,\n",
       "       0.08867744, 0.08072395, 0.12215469, 0.08290401, 0.12956089,\n",
       "       0.0794367 , 0.07123108, 0.07184052, 0.12227008, 0.07025148,\n",
       "       0.07309908, 0.10848726, 0.10144446, 0.10023579, 0.06060068,\n",
       "       0.10638629, 0.10573328, 0.08290401, 0.08290401, 0.10468626,\n",
       "       0.08055073, 0.08887348, 0.08190955, 0.07341097, 0.11500721,\n",
       "       0.06486888, 0.06649342, 0.06851664, 0.08071109, 0.12494596,\n",
       "       0.11352089, 0.10738561, 0.10012394, 0.10795473, 0.11963283,\n",
       "       0.10626699, 0.11100032, 0.09446213, 0.10848363, 0.12687372,\n",
       "       0.07357891, 0.09647316, 0.08507597, 0.10661718, 0.08391568,\n",
       "       0.08290401, 0.08180156, 0.07258217, 0.11674536, 0.11908066,\n",
       "       0.08947898, 0.07293362, 0.094187  , 0.10144446, 0.07389171,\n",
       "       0.08279048, 0.07389171, 0.10572985, 0.12272297, 0.11337371,\n",
       "       0.07341097, 0.08021121, 0.11656129, 0.1055309 , 0.06975657,\n",
       "       0.06836338, 0.05945143, 0.10565882, 0.10464517, 0.10813604,\n",
       "       0.07996266, 0.08502642, 0.07188907, 0.08180156, 0.12093525,\n",
       "       0.11904094, 0.09645539, 0.06844839, 0.11303166, 0.10144446,\n",
       "       0.11005451, 0.10786498, 0.10144446, 0.10573328, 0.11900207,\n",
       "       0.11925446, 0.08968935, 0.08779524, 0.13832796, 0.11988489,\n",
       "       0.07427116, 0.07488968, 0.08026479, 0.07025148, 0.09125399,\n",
       "       0.07869344, 0.07384337, 0.10745183, 0.11862412, 0.13248104,\n",
       "       0.08290401, 0.07025148, 0.09846924, 0.06243178, 0.07602825,\n",
       "       0.05954343, 0.10638629, 0.11302324, 0.0827459 , 0.0900619 ,\n",
       "       0.08769777, 0.07025148, 0.07218351, 0.10333748, 0.14105853,\n",
       "       0.10617585, 0.07726895, 0.07580729, 0.07740302, 0.09816819,\n",
       "       0.09531535, 0.06359513, 0.06922084, 0.13195568, 0.07248765,\n",
       "       0.10144446, 0.09825911, 0.07025148, 0.09295893, 0.0818961 ,\n",
       "       0.06260709, 0.07255274, 0.12641883, 0.06060068, 0.0653899 ,\n",
       "       0.06130029, 0.07327564, 0.07063619, 0.10816119, 0.08290401,\n",
       "       0.10638629, 0.11318874, 0.07389171, 0.07025148, 0.06060068,\n",
       "       0.08846129, 0.08411656, 0.08255378, 0.07025148, 0.07492475,\n",
       "       0.07025148, 0.07025148, 0.06742767, 0.09868018, 0.06260709,\n",
       "       0.09172549, 0.07488968, 0.06355914, 0.09123078, 0.07120907,\n",
       "       0.07025148, 0.07305723, 0.08414477, 0.08290401, 0.12768485,\n",
       "       0.11097809, 0.11719245, 0.08558945, 0.07633033, 0.07988608,\n",
       "       0.09363142, 0.07454758, 0.07060749, 0.07923036, 0.07025148,\n",
       "       0.07568005, 0.06905723, 0.06363247, 0.09489422, 0.08071109,\n",
       "       0.10089152, 0.15036875, 0.09032531, 0.08921831, 0.07557768,\n",
       "       0.08290401, 0.10797723, 0.12048039, 0.07025148, 0.06563535,\n",
       "       0.09032531, 0.07653366, 0.09595558, 0.09816819, 0.08727561,\n",
       "       0.06293999, 0.06938576, 0.08583832, 0.09035737, 0.06060068,\n",
       "       0.07531562, 0.06872406, 0.09668218, 0.09508856, 0.07025148,\n",
       "       0.07587812, 0.06060068, 0.07025148, 0.10144446, 0.0658753 ,\n",
       "       0.0658753 , 0.07494652, 0.08924893, 0.10784262, 0.09652904,\n",
       "       0.10626699, 0.13495594, 0.07025148, 0.07341097, 0.07120907,\n",
       "       0.09337263, 0.07302948, 0.07440349, 0.08193069, 0.06060068,\n",
       "       0.06384472, 0.07580729, 0.08187922, 0.08650573, 0.0713125 ,\n",
       "       0.07025148, 0.07687723, 0.07626674, 0.07277349, 0.07246497,\n",
       "       0.08071109, 0.07327564, 0.06020122, 0.08346195, 0.07025148,\n",
       "       0.06394839, 0.07025148, 0.07334748, 0.07071992, 0.10195899,\n",
       "       0.09387117, 0.07967969, 0.07124428, 0.10195899, 0.08512434,\n",
       "       0.08060044, 0.10195899, 0.08290401, 0.09816819, 0.09190408,\n",
       "       0.08123608, 0.10626699, 0.10144446, 0.11816262, 0.08071109,\n",
       "       0.10096505, 0.06281722, 0.07025148, 0.1029687 , 0.09392487,\n",
       "       0.06271648, 0.11978482, 0.07334748, 0.06836338, 0.11904094,\n",
       "       0.12093525, 0.11391762, 0.08769777, 0.10482139, 0.12559023,\n",
       "       0.0975456 , 0.09973173, 0.09349553, 0.11391762, 0.11807828,\n",
       "       0.11904094, 0.06020122, 0.10784481, 0.06060068, 0.06060068,\n",
       "       0.10626699, 0.11938379, 0.11852142, 0.06330032, 0.10773517,\n",
       "       0.1421708 , 0.07341097, 0.11799197, 0.10144446, 0.11076114,\n",
       "       0.10195899, 0.09746455, 0.07341097, 0.11276229, 0.06205347,\n",
       "       0.10629261, 0.12461335, 0.07120907, 0.08063918, 0.08536161,\n",
       "       0.07188907, 0.10978483, 0.10195899, 0.1314327 , 0.07103046,\n",
       "       0.07948256, 0.11801749, 0.12471156, 0.06020122, 0.07610057,\n",
       "       0.10195899, 0.1067794 , 0.07576542, 0.09816819, 0.10144446,\n",
       "       0.10525804, 0.11456104, 0.10978483, 0.10626699, 0.07343905,\n",
       "       0.12359721, 0.0786539 , 0.09215331, 0.08650573, 0.10195899,\n",
       "       0.10684697, 0.09497069, 0.09016176, 0.11064728, 0.08180156,\n",
       "       0.07933262, 0.06938576, 0.10626354, 0.11963283, 0.10195899,\n",
       "       0.0833488 , 0.10144446, 0.08616826, 0.08290401, 0.0781802 ,\n",
       "       0.10738561, 0.10629261, 0.12355984, 0.10743819, 0.10144446,\n",
       "       0.06060068, 0.08097916, 0.08071109, 0.06060068, 0.07300394,\n",
       "       0.10195899, 0.10144446, 0.11354335, 0.07576542, 0.05954343,\n",
       "       0.10957742, 0.08290401, 0.09140208, 0.11329235, 0.07580729,\n",
       "       0.07353922, 0.07211804, 0.10600112, 0.07025148, 0.06184618,\n",
       "       0.10561882, 0.06222799, 0.08290401, 0.10724192, 0.0905598 ,\n",
       "       0.10638629, 0.10279006, 0.10144446, 0.12382867, 0.10626354,\n",
       "       0.10195899, 0.10195899, 0.10144446, 0.07244658, 0.10195899,\n",
       "       0.06893837, 0.08290401, 0.07255274, 0.10144446, 0.09816819,\n",
       "       0.0842263 , 0.11470899, 0.0669583 , 0.07293362, 0.11261716,\n",
       "       0.10540788, 0.07436862, 0.10144446, 0.09130421, 0.1060637 ,\n",
       "       0.11158445, 0.07334748, 0.07507322, 0.07207063, 0.0648062 ,\n",
       "       0.06330032, 0.10629261, 0.07025148, 0.10626354, 0.08279048,\n",
       "       0.11227471, 0.0803546 , 0.11963283, 0.10195899, 0.0781666 ,\n",
       "       0.08650573, 0.11623846, 0.07269009, 0.07025148, 0.07025148,\n",
       "       0.1166515 , 0.06971505, 0.11008979, 0.07152689, 0.10195899,\n",
       "       0.10195899, 0.0762501 , 0.10561112, 0.08150324, 0.07486096,\n",
       "       0.08534779, 0.07922744, 0.06060068, 0.10195899, 0.10144446,\n",
       "       0.07221707, 0.093908  , 0.09927062, 0.10493717, 0.10683978,\n",
       "       0.11904094, 0.06751414, 0.06260709, 0.11391762, 0.13008253,\n",
       "       0.10195899, 0.08233544, 0.08934566, 0.12874877, 0.11903038,\n",
       "       0.10285006, 0.08290401, 0.11424375, 0.11780628, 0.08932387,\n",
       "       0.08414477, 0.10868039, 0.11904094], dtype=float32)"
      ]
     },
     "execution_count": 53,
     "metadata": {},
     "output_type": "execute_result"
    }
   ],
   "source": []
  },
  {
   "cell_type": "code",
   "execution_count": 56,
   "metadata": {},
   "outputs": [
    {
     "name": "stdout",
     "output_type": "stream",
     "text": [
      "0.5282051282051282\n"
     ]
    }
   ],
   "source": [
    "auc = metrics.roc_auc_score(y_test, clf.predict_proba(Xs)[:,1])\n",
    "\n",
    "#print AUC score\n",
    "print(auc)"
   ]
  },
  {
   "cell_type": "markdown",
   "metadata": {},
   "source": [
    "And we can also use the model for training using it's fit method. "
   ]
  },
  {
   "cell_type": "code",
   "execution_count": 50,
   "metadata": {},
   "outputs": [
    {
     "data": {
      "text/html": [
       "<style>#sk-container-id-2 {color: black;background-color: white;}#sk-container-id-2 pre{padding: 0;}#sk-container-id-2 div.sk-toggleable {background-color: white;}#sk-container-id-2 label.sk-toggleable__label {cursor: pointer;display: block;width: 100%;margin-bottom: 0;padding: 0.3em;box-sizing: border-box;text-align: center;}#sk-container-id-2 label.sk-toggleable__label-arrow:before {content: \"▸\";float: left;margin-right: 0.25em;color: #696969;}#sk-container-id-2 label.sk-toggleable__label-arrow:hover:before {color: black;}#sk-container-id-2 div.sk-estimator:hover label.sk-toggleable__label-arrow:before {color: black;}#sk-container-id-2 div.sk-toggleable__content {max-height: 0;max-width: 0;overflow: hidden;text-align: left;background-color: #f0f8ff;}#sk-container-id-2 div.sk-toggleable__content pre {margin: 0.2em;color: black;border-radius: 0.25em;background-color: #f0f8ff;}#sk-container-id-2 input.sk-toggleable__control:checked~div.sk-toggleable__content {max-height: 200px;max-width: 100%;overflow: auto;}#sk-container-id-2 input.sk-toggleable__control:checked~label.sk-toggleable__label-arrow:before {content: \"▾\";}#sk-container-id-2 div.sk-estimator input.sk-toggleable__control:checked~label.sk-toggleable__label {background-color: #d4ebff;}#sk-container-id-2 div.sk-label input.sk-toggleable__control:checked~label.sk-toggleable__label {background-color: #d4ebff;}#sk-container-id-2 input.sk-hidden--visually {border: 0;clip: rect(1px 1px 1px 1px);clip: rect(1px, 1px, 1px, 1px);height: 1px;margin: -1px;overflow: hidden;padding: 0;position: absolute;width: 1px;}#sk-container-id-2 div.sk-estimator {font-family: monospace;background-color: #f0f8ff;border: 1px dotted black;border-radius: 0.25em;box-sizing: border-box;margin-bottom: 0.5em;}#sk-container-id-2 div.sk-estimator:hover {background-color: #d4ebff;}#sk-container-id-2 div.sk-parallel-item::after {content: \"\";width: 100%;border-bottom: 1px solid gray;flex-grow: 1;}#sk-container-id-2 div.sk-label:hover label.sk-toggleable__label {background-color: #d4ebff;}#sk-container-id-2 div.sk-serial::before {content: \"\";position: absolute;border-left: 1px solid gray;box-sizing: border-box;top: 0;bottom: 0;left: 50%;z-index: 0;}#sk-container-id-2 div.sk-serial {display: flex;flex-direction: column;align-items: center;background-color: white;padding-right: 0.2em;padding-left: 0.2em;position: relative;}#sk-container-id-2 div.sk-item {position: relative;z-index: 1;}#sk-container-id-2 div.sk-parallel {display: flex;align-items: stretch;justify-content: center;background-color: white;position: relative;}#sk-container-id-2 div.sk-item::before, #sk-container-id-2 div.sk-parallel-item::before {content: \"\";position: absolute;border-left: 1px solid gray;box-sizing: border-box;top: 0;bottom: 0;left: 50%;z-index: -1;}#sk-container-id-2 div.sk-parallel-item {display: flex;flex-direction: column;z-index: 1;position: relative;background-color: white;}#sk-container-id-2 div.sk-parallel-item:first-child::after {align-self: flex-end;width: 50%;}#sk-container-id-2 div.sk-parallel-item:last-child::after {align-self: flex-start;width: 50%;}#sk-container-id-2 div.sk-parallel-item:only-child::after {width: 0;}#sk-container-id-2 div.sk-dashed-wrapped {border: 1px dashed gray;margin: 0 0.4em 0.5em 0.4em;box-sizing: border-box;padding-bottom: 0.4em;background-color: white;}#sk-container-id-2 div.sk-label label {font-family: monospace;font-weight: bold;display: inline-block;line-height: 1.2em;}#sk-container-id-2 div.sk-label-container {text-align: center;}#sk-container-id-2 div.sk-container {/* jupyter's `normalize.less` sets `[hidden] { display: none; }` but bootstrap.min.css set `[hidden] { display: none !important; }` so we also need the `!important` here to be able to override the default hidden behavior on the sphinx rendered scikit-learn.org. See: https://github.com/scikit-learn/scikit-learn/issues/21755 */display: inline-block !important;position: relative;}#sk-container-id-2 div.sk-text-repr-fallback {display: none;}</style><div id=\"sk-container-id-2\" class=\"sk-top-container\"><div class=\"sk-text-repr-fallback\"><pre>XGBClassifier(base_score=0.5, booster=&#x27;gbtree&#x27;, callbacks=None,\n",
       "              colsample_bylevel=1, colsample_bynode=1, colsample_bytree=0.3,\n",
       "              early_stopping_rounds=None, enable_categorical=False,\n",
       "              eval_metric=&#x27;logloss&#x27;, gamma=0.4, gpu_id=-1,\n",
       "              grow_policy=&#x27;depthwise&#x27;, importance_type=&#x27;gain&#x27;,\n",
       "              interaction_constraints=&#x27;&#x27;, learning_rate=0.05, max_bin=256,\n",
       "              max_cat_to_onehot=4, max_delta_step=0, max_depth=4, max_leaves=0,\n",
       "              min_child_weight=5, missing=nan, monotone_constraints=&#x27;()&#x27;,\n",
       "              n_estimators=100, n_jobs=4, num_parallel_tree=1, predictor=&#x27;auto&#x27;,\n",
       "              random_state=0, reg_alpha=0, reg_lambda=1, ...)</pre><b>In a Jupyter environment, please rerun this cell to show the HTML representation or trust the notebook. <br />On GitHub, the HTML representation is unable to render, please try loading this page with nbviewer.org.</b></div><div class=\"sk-container\" hidden><div class=\"sk-item\"><div class=\"sk-estimator sk-toggleable\"><input class=\"sk-toggleable__control sk-hidden--visually\" id=\"sk-estimator-id-2\" type=\"checkbox\" checked><label for=\"sk-estimator-id-2\" class=\"sk-toggleable__label sk-toggleable__label-arrow\">XGBClassifier</label><div class=\"sk-toggleable__content\"><pre>XGBClassifier(base_score=0.5, booster=&#x27;gbtree&#x27;, callbacks=None,\n",
       "              colsample_bylevel=1, colsample_bynode=1, colsample_bytree=0.3,\n",
       "              early_stopping_rounds=None, enable_categorical=False,\n",
       "              eval_metric=&#x27;logloss&#x27;, gamma=0.4, gpu_id=-1,\n",
       "              grow_policy=&#x27;depthwise&#x27;, importance_type=&#x27;gain&#x27;,\n",
       "              interaction_constraints=&#x27;&#x27;, learning_rate=0.05, max_bin=256,\n",
       "              max_cat_to_onehot=4, max_delta_step=0, max_depth=4, max_leaves=0,\n",
       "              min_child_weight=5, missing=nan, monotone_constraints=&#x27;()&#x27;,\n",
       "              n_estimators=100, n_jobs=4, num_parallel_tree=1, predictor=&#x27;auto&#x27;,\n",
       "              random_state=0, reg_alpha=0, reg_lambda=1, ...)</pre></div></div></div></div></div>"
      ],
      "text/plain": [
       "XGBClassifier(base_score=0.5, booster='gbtree', callbacks=None,\n",
       "              colsample_bylevel=1, colsample_bynode=1, colsample_bytree=0.3,\n",
       "              early_stopping_rounds=None, enable_categorical=False,\n",
       "              eval_metric='logloss', gamma=0.4, gpu_id=-1,\n",
       "              grow_policy='depthwise', importance_type='gain',\n",
       "              interaction_constraints='', learning_rate=0.05, max_bin=256,\n",
       "              max_cat_to_onehot=4, max_delta_step=0, max_depth=4, max_leaves=0,\n",
       "              min_child_weight=5, missing=nan, monotone_constraints='()',\n",
       "              n_estimators=100, n_jobs=4, num_parallel_tree=1, predictor='auto',\n",
       "              random_state=0, reg_alpha=0, reg_lambda=1, ...)"
      ]
     },
     "execution_count": 50,
     "metadata": {},
     "output_type": "execute_result"
    }
   ],
   "source": [
    "new_clf = deepcopy(clf)\n",
    "new_clf.fit(X,y_train)"
   ]
  },
  {
   "cell_type": "code",
   "execution_count": 57,
   "metadata": {},
   "outputs": [
    {
     "name": "stdout",
     "output_type": "stream",
     "text": [
      "0.6935455349248453\n"
     ]
    }
   ],
   "source": [
    "auc = metrics.roc_auc_score(y_test, new_clf.predict_proba(Xs)[:,1])\n",
    "print(auc)"
   ]
  }
 ],
 "metadata": {
  "kernelspec": {
   "display_name": "Python 3.10.4 ('epilepsy')",
   "language": "python",
   "name": "python3"
  },
  "language_info": {
   "codemirror_mode": {
    "name": "ipython",
    "version": 3
   },
   "file_extension": ".py",
   "mimetype": "text/x-python",
   "name": "python",
   "nbconvert_exporter": "python",
   "pygments_lexer": "ipython3",
   "version": "3.10.4"
  },
  "orig_nbformat": 4,
  "vscode": {
   "interpreter": {
    "hash": "8747c58f976e8718a210ff9d65e45277631a2a1091567866d3d0278a10c7087e"
   }
  }
 },
 "nbformat": 4,
 "nbformat_minor": 2
}
