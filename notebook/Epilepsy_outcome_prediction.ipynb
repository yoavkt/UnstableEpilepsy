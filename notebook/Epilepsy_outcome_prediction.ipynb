{
 "cells": [
  {
   "cell_type": "code",
   "execution_count": 1,
   "metadata": {},
   "outputs": [],
   "source": [
    "import numpy as np\n",
    "import pandas as pd\n",
    "from epilepsy_prediction import load_model, data_preprocess"
   ]
  },
  {
   "cell_type": "markdown",
   "metadata": {},
   "source": [
    "# How to predict"
   ]
  },
  {
   "cell_type": "markdown",
   "metadata": {},
   "source": [
    "Loading the model, we can select between: Carbamazepine, Gabapentin, Lamotrigine, Levetiracetam, Oxcarbazepine, Phenytoin,Topiramate,Valproate. "
   ]
  },
  {
   "cell_type": "code",
   "execution_count": 33,
   "metadata": {},
   "outputs": [],
   "source": [
    "def load_data(drug_name,file_name='/Users/yoavkt/Documents/epilepsy_data/{}_data.pkl'):\n",
    "    data = pd.read_pickle(file_name.format(drug_name))\n",
    "    return data['X'],data['y']"
   ]
  },
  {
   "cell_type": "code",
   "execution_count": 34,
   "metadata": {},
   "outputs": [
    {
     "ename": "UnpicklingError",
     "evalue": "unpickling stack underflow",
     "output_type": "error",
     "traceback": [
      "\u001b[0;31m---------------------------------------------------------------------------\u001b[0m",
      "\u001b[0;31mUnpicklingError\u001b[0m                           Traceback (most recent call last)",
      "\u001b[1;32m/Users/yoavkt/Documents/CODE/UnstableEpilepsy/notebook/Epilepsy_outcome_prediction.ipynb Cell 5\u001b[0m in \u001b[0;36m<cell line: 2>\u001b[0;34m()\u001b[0m\n\u001b[1;32m      <a href='vscode-notebook-cell:/Users/yoavkt/Documents/CODE/UnstableEpilepsy/notebook/Epilepsy_outcome_prediction.ipynb#ch0000004?line=0'>1</a>\u001b[0m drug_name \u001b[39m=\u001b[39m \u001b[39m'\u001b[39m\u001b[39mcarbamazepine\u001b[39m\u001b[39m'\u001b[39m\n\u001b[0;32m----> <a href='vscode-notebook-cell:/Users/yoavkt/Documents/CODE/UnstableEpilepsy/notebook/Epilepsy_outcome_prediction.ipynb#ch0000004?line=1'>2</a>\u001b[0m X,y \u001b[39m=\u001b[39m load_data(drug_name)\n",
      "\u001b[1;32m/Users/yoavkt/Documents/CODE/UnstableEpilepsy/notebook/Epilepsy_outcome_prediction.ipynb Cell 5\u001b[0m in \u001b[0;36mload_data\u001b[0;34m(drug_name, file_name)\u001b[0m\n\u001b[1;32m      <a href='vscode-notebook-cell:/Users/yoavkt/Documents/CODE/UnstableEpilepsy/notebook/Epilepsy_outcome_prediction.ipynb#ch0000004?line=0'>1</a>\u001b[0m \u001b[39mdef\u001b[39;00m \u001b[39mload_data\u001b[39m(drug_name,file_name\u001b[39m=\u001b[39m\u001b[39m'\u001b[39m\u001b[39m/Users/yoavkt/Documents/epilepsy_data/\u001b[39m\u001b[39m{}\u001b[39;00m\u001b[39m_data.pkl\u001b[39m\u001b[39m'\u001b[39m):\n\u001b[0;32m----> <a href='vscode-notebook-cell:/Users/yoavkt/Documents/CODE/UnstableEpilepsy/notebook/Epilepsy_outcome_prediction.ipynb#ch0000004?line=1'>2</a>\u001b[0m     data \u001b[39m=\u001b[39m pd\u001b[39m.\u001b[39;49mread_pickle(file_name\u001b[39m.\u001b[39;49mformat(drug_name))\n\u001b[1;32m      <a href='vscode-notebook-cell:/Users/yoavkt/Documents/CODE/UnstableEpilepsy/notebook/Epilepsy_outcome_prediction.ipynb#ch0000004?line=2'>3</a>\u001b[0m     \u001b[39mreturn\u001b[39;00m data[\u001b[39m'\u001b[39m\u001b[39mX\u001b[39m\u001b[39m'\u001b[39m],data[\u001b[39m'\u001b[39m\u001b[39my\u001b[39m\u001b[39m'\u001b[39m]\n",
      "File \u001b[0;32m/opt/miniconda3/envs/epi/lib/python3.10/site-packages/pandas/io/pickle.py:205\u001b[0m, in \u001b[0;36mread_pickle\u001b[0;34m(filepath_or_buffer, compression, storage_options)\u001b[0m\n\u001b[1;32m    202\u001b[0m     \u001b[39mwith\u001b[39;00m warnings\u001b[39m.\u001b[39mcatch_warnings(record\u001b[39m=\u001b[39m\u001b[39mTrue\u001b[39;00m):\n\u001b[1;32m    203\u001b[0m         \u001b[39m# We want to silence any warnings about, e.g. moved modules.\u001b[39;00m\n\u001b[1;32m    204\u001b[0m         warnings\u001b[39m.\u001b[39msimplefilter(\u001b[39m\"\u001b[39m\u001b[39mignore\u001b[39m\u001b[39m\"\u001b[39m, \u001b[39mWarning\u001b[39;00m)\n\u001b[0;32m--> 205\u001b[0m         \u001b[39mreturn\u001b[39;00m pickle\u001b[39m.\u001b[39;49mload(handles\u001b[39m.\u001b[39;49mhandle)\n\u001b[1;32m    206\u001b[0m \u001b[39mexcept\u001b[39;00m excs_to_catch:\n\u001b[1;32m    207\u001b[0m     \u001b[39m# e.g.\u001b[39;00m\n\u001b[1;32m    208\u001b[0m     \u001b[39m#  \"No module named 'pandas.core.sparse.series'\"\u001b[39;00m\n\u001b[1;32m    209\u001b[0m     \u001b[39m#  \"Can't get attribute '__nat_unpickle' on <module 'pandas._libs.tslib\"\u001b[39;00m\n\u001b[1;32m    210\u001b[0m     \u001b[39mreturn\u001b[39;00m pc\u001b[39m.\u001b[39mload(handles\u001b[39m.\u001b[39mhandle, encoding\u001b[39m=\u001b[39m\u001b[39mNone\u001b[39;00m)\n",
      "\u001b[0;31mUnpicklingError\u001b[0m: unpickling stack underflow"
     ]
    }
   ],
   "source": [
    "drug_name = 'carbamazepine'\n",
    "X,y = load_data(drug_name)"
   ]
  },
  {
   "cell_type": "code",
   "execution_count": null,
   "metadata": {},
   "outputs": [],
   "source": [
    "\n",
    "clf = load_model(drug_name)\n",
    "\n",
    "X = data_preprocess(X,impute_drug=drug_name)"
   ]
  },
  {
   "cell_type": "markdown",
   "metadata": {},
   "source": [
    "Now we can use the model for prediction"
   ]
  },
  {
   "cell_type": "code",
   "execution_count": null,
   "metadata": {},
   "outputs": [],
   "source": [
    "np.mean(clf.predict(X))"
   ]
  },
  {
   "cell_type": "markdown",
   "metadata": {},
   "source": [
    "And we can also use the model for training using it's fit method. "
   ]
  },
  {
   "cell_type": "code",
   "execution_count": null,
   "metadata": {},
   "outputs": [],
   "source": [
    "clf.fit(X,y)"
   ]
  }
 ],
 "metadata": {
  "kernelspec": {
   "display_name": "Python 3.10.4 ('epi')",
   "language": "python",
   "name": "python3"
  },
  "language_info": {
   "codemirror_mode": {
    "name": "ipython",
    "version": 3
   },
   "file_extension": ".py",
   "mimetype": "text/x-python",
   "name": "python",
   "nbconvert_exporter": "python",
   "pygments_lexer": "ipython3",
   "version": "3.10.4"
  },
  "orig_nbformat": 4,
  "vscode": {
   "interpreter": {
    "hash": "d2aee14a35e5b37e74a46026c5bd6327b444e5875d6cd6c809703b0a85b0bfa1"
   }
  }
 },
 "nbformat": 4,
 "nbformat_minor": 2
}
