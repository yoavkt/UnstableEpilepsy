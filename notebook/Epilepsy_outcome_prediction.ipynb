{
 "cells": [
  {
   "cell_type": "code",
   "execution_count": null,
   "metadata": {},
   "outputs": [],
   "source": [
    "import pandas as pd\n",
    "from epilepsy_prediction import load_prediction_model, data_preprocess,fuse_string,evaluate_model,load_imputation_model\n",
    "from epilepsy_prediction.imputation import column_imputer\n",
    "from copy import deepcopy"
   ]
  },
  {
   "cell_type": "markdown",
   "metadata": {},
   "source": [
    "# How to predict"
   ]
  },
  {
   "cell_type": "markdown",
   "metadata": {},
   "source": [
    "Loading the model, we can select between: Carbamazepine, Gabapentin, Lamotrigine, Levetiracetam, Oxcarbazepine, Phenytoin,Topiramate,Valproate. "
   ]
  },
  {
   "cell_type": "code",
   "execution_count": null,
   "metadata": {},
   "outputs": [],
   "source": [
    "def load_data(change_name_file,data_file_name,outcome_col=\"outcome\"):\n",
    "    data_df = pd.read_csv(data_file_name, index_col=0)\n",
    "    new_name_df = pd.read_csv(change_name_file,index_col=0)\n",
    "    data_df.rename(new_name_df['marketscan'].to_dict(),inplace=True,axis=1)\n",
    "    y_train = data_df.loc[data_df[\"test_train\"]==\"train\",outcome_col]\n",
    "    X_train = data_df.loc[data_df[\"test_train\"]==\"train\",~( data_df.columns.isin([outcome_col,\"test_train\"]))]\n",
    "    y_test = data_df.loc[~(data_df[\"test_train\"]==\"train\"),outcome_col]\n",
    "    X_test = data_df.loc[~(data_df[\"test_train\"]==\"train\"),~ (data_df.columns.isin([outcome_col,\"test_train\"]))]\n",
    "    return X_train,y_train,X_test,y_test\n"
   ]
  },
  {
   "cell_type": "code",
   "execution_count": null,
   "metadata": {},
   "outputs": [],
   "source": [
    "change_name_file=r\"C:\\\\Users\\Anastassia Kolde\\\\Documents\\\\Israel secondment\\\\dictionary.csv\"\n",
    "data_file_name = r\"C:\\\\Users\\Anastassia Kolde\\\\Documents\\\\Israel secondment\\\\Data\\test_train_epilepsy.csv\"\n",
    "X_train,y_train,X_test,y_test = load_data(change_name_file,data_file_name)"
   ]
  },
  {
   "cell_type": "code",
   "execution_count": null,
   "metadata": {},
   "outputs": [],
   "source": [
    "drug_name=\"carbamazepine\"\n",
    "clf = load_prediction_model(drug_name)\n",
    "X = data_preprocess(X_train,impute_drug=drug_name,replace_mean=True)\n",
    "Xs = data_preprocess(X_test,impute_drug=drug_name,replace_mean=True)"
   ]
  },
  {
   "cell_type": "markdown",
   "metadata": {},
   "source": [
    "And we can also use the model for training using it's fit method. "
   ]
  },
  {
   "cell_type": "code",
   "execution_count": null,
   "metadata": {},
   "outputs": [],
   "source": [
    "new_clf = deepcopy(clf)\n",
    "new_clf.fit(X,y_train)\n",
    "new_clf.save_model('../models/prediction/est_carba_p.xgb')"
   ]
  },
  {
   "cell_type": "code",
   "execution_count": null,
   "metadata": {},
   "outputs": [],
   "source": [
    "eval = evaluate_model(clf,new_clf,Xs,y_test)\n",
    "rep = fuse_string(eval)"
   ]
  },
  {
   "cell_type": "code",
   "execution_count": null,
   "metadata": {},
   "outputs": [],
   "source": [
    "print(rep)"
   ]
  },
  {
   "cell_type": "markdown",
   "metadata": {},
   "source": [
    "# new outcome"
   ]
  },
  {
   "cell_type": "code",
   "execution_count": null,
   "metadata": {},
   "outputs": [],
   "source": [
    "data_file_name = r\"C:\\\\Users\\Anastassia Kolde\\\\Documents\\\\Israel secondment\\\\Data\\test_train_epilepsy.csv\"\n",
    "X_train,y_train,X_test,y_test = load_data(change_name_file,data_file_name)\n",
    "drug_name=\"carbamazepine\"\n",
    "clf = load_prediction_model(drug_name)\n",
    "X = data_preprocess(X_train,impute_drug=drug_name)\n",
    "Xs = data_preprocess(X_test,impute_drug=drug_name)\n",
    "new_clf = deepcopy(clf)\n",
    "new_clf.fit(X,y_train)\n",
    "new_clf.save_model('../models/prediction/est_carba_new_out.xgb')\n",
    "eval = evaluate_model(clf,new_clf,Xs,y_test)\n",
    "rep = fuse_string(eval)"
   ]
  },
  {
   "cell_type": "code",
   "execution_count": null,
   "metadata": {},
   "outputs": [],
   "source": [
    "print(rep)"
   ]
  },
  {
   "cell_type": "markdown",
   "metadata": {},
   "source": [
    "# Using the regressor imputation"
   ]
  },
  {
   "cell_type": "code",
   "execution_count": null,
   "metadata": {},
   "outputs": [],
   "source": [
    "#col_imputer = load_imputation_model(\"col_carbamazepine\")\n",
    "regress_imputer = load_imputation_model(\"regress_imputer_carbamazepine.pkl\")"
   ]
  },
  {
   "cell_type": "code",
   "execution_count": null,
   "metadata": {},
   "outputs": [],
   "source": [
    "X = data_preprocess(X_train,impute_drug=drug_name,replace_mean=False)\n",
    "Xs = data_preprocess(X_test,impute_drug=drug_name,replace_mean=False)\n",
    "print('Do we have nan value !:',any(X.isnull()))\n",
    "X = regress_imputer.transform(X)\n",
    "Xs = regress_imputer.transform(Xs)\n",
    "new_clf = deepcopy(clf)\n",
    "new_clf.fit(X,y_train)\n",
    "new_clf.save_model('../models/prediction/est_carba_new_impute.xgb')\n",
    "eval = evaluate_model(clf,new_clf,Xs,y_test)\n",
    "rep = fuse_string(eval)"
   ]
  },
  {
   "cell_type": "code",
   "execution_count": null,
   "metadata": {},
   "outputs": [],
   "source": [
    "print(rep)"
   ]
  }
 ],
 "metadata": {
  "kernelspec": {
   "display_name": "Python 3.9.12 ('epi9')",
   "language": "python",
   "name": "python3"
  },
  "language_info": {
   "codemirror_mode": {
    "name": "ipython",
    "version": 3
   },
   "file_extension": ".py",
   "mimetype": "text/x-python",
   "name": "python",
   "nbconvert_exporter": "python",
   "pygments_lexer": "ipython3",
   "version": "3.9.12"
  },
  "orig_nbformat": 4,
  "vscode": {
   "interpreter": {
    "hash": "ddd9f49c652c6d182f69755b7ee5e124f86cbddecfc26f23757e5e4f41f4cab8"
   }
  }
 },
 "nbformat": 4,
 "nbformat_minor": 2
}
