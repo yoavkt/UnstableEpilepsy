{
 "cells": [
  {
   "cell_type": "code",
   "execution_count": null,
   "id": "e1f61f25",
   "metadata": {},
   "outputs": [],
   "source": [
    "change_name_file=r\"C:\\\\Users\\Anastassia Kolde\\\\Documents\\\\Israel secondment\\\\dictionary_19.01.23.csv\"\n",
    "\n",
    "my_to_them = dict(pd.read_csv(change_name_file).values)\n",
    "them_file = \"C:\\\\Users\\\\Anastassia Kolde\\\\Documents\\\\GitHub\\\\UnstableEpilepsy\\\\csv\\\\mean_pred_cals.csv\"\n",
    "them = pd.read_csv(them_file)"
   ]
  },
  {
   "cell_type": "code",
   "execution_count": null,
   "id": "5b4714ae",
   "metadata": {},
   "outputs": [],
   "source": [
    "missing_in_my  = set(them.columns[1:]) - set(my_to_them.values())"
   ]
  },
  {
   "cell_type": "code",
   "execution_count": null,
   "id": "7661beb7",
   "metadata": {},
   "outputs": [],
   "source": [
    "#need, mis on neil, aga meil ei ole\n",
    "missing_in_my"
   ]
  },
  {
   "cell_type": "code",
   "execution_count": null,
   "id": "95890400",
   "metadata": {},
   "outputs": [],
   "source": [
    "them_has_value = dict(them.notnull().all())"
   ]
  },
  {
   "cell_type": "code",
   "execution_count": null,
   "id": "93c7e5d7",
   "metadata": {},
   "outputs": [],
   "source": [
    "data = []\n",
    "for col in them.columns[1:]:\n",
    "    data.append({\n",
    "        'name':col,\n",
    "        'is_in_our_data':col not in missing_in_my,\n",
    "        'has_value':them_has_value[col]\n",
    "    })\n",
    "res = pd.DataFrame(data)"
   ]
  },
  {
   "cell_type": "code",
   "execution_count": null,
   "id": "531f32f1",
   "metadata": {},
   "outputs": [],
   "source": [
    "res[~res.is_in_our_data][['name', 'has_value']].to_csv(\"missing_values_mean_imputer.csv\", index=False)"
   ]
  },
  {
   "cell_type": "code",
   "execution_count": null,
   "id": "0fe22d5c",
   "metadata": {},
   "outputs": [],
   "source": [
    "!cat missing_values_mean_imputer.csv"
   ]
  }
 ],
 "metadata": {
  "kernelspec": {
   "display_name": "Python 3 (ipykernel)",
   "language": "python",
   "name": "python3"
  },
  "language_info": {
   "codemirror_mode": {
    "name": "ipython",
    "version": 3
   },
   "file_extension": ".py",
   "mimetype": "text/x-python",
   "name": "python",
   "nbconvert_exporter": "python",
   "pygments_lexer": "ipython3",
   "version": "3.8.15"
  }
 },
 "nbformat": 4,
 "nbformat_minor": 5
}
