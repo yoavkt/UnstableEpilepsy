{
 "cells": [
  {
   "cell_type": "code",
   "execution_count": 1,
   "metadata": {},
   "outputs": [],
   "source": [
    "import pandas as pd\n",
    "import warnings\n",
    "\n",
    "warnings.filterwarnings(\"ignore\")\n",
    "\n",
    "from epilepsy_prediction import load_prediction_model, data_preprocess,fuse_string,evaluate_model,load_imputation_model\n",
    "from epilepsy_prediction.imputation import column_imputer\n",
    "from copy import deepcopy\n",
    "from pandas import read_csv\n",
    "\n",
    "\n",
    "def load_data(change_name_file,data_file_name,outcome_col=\"outcome\"):\n",
    "    data_df = pd.read_csv(data_file_name, index_col=0)\n",
    "    new_name_df = pd.read_csv(change_name_file,index_col=0)\n",
    "    data_df.rename(new_name_df['marketscan'].to_dict(),inplace=True,axis=1)\n",
    "    y_train = data_df.loc[data_df[\"test_train\"]==\"train\",outcome_col]\n",
    "    X_train = data_df.loc[data_df[\"test_train\"]==\"train\",~( data_df.columns.isin([outcome_col,\"test_train\"]))]\n",
    "    y_test = data_df.loc[~(data_df[\"test_train\"]==\"train\"),outcome_col]\n",
    "    X_test = data_df.loc[~(data_df[\"test_train\"]==\"train\"),~ (data_df.columns.isin([outcome_col,\"test_train\"]))]\n",
    "    return X_train,y_train,X_test,y_test\n"
   ]
  },
  {
   "cell_type": "markdown",
   "metadata": {},
   "source": [
    "Loading the model, we can select between: Carbamazepine, Gabapentin, Lamotrigine, Levetiracetam, Oxcarbazepine, Phenytoin,Topiramate,Valproate. "
   ]
  },
  {
   "cell_type": "markdown",
   "metadata": {},
   "source": [
    "# no imputation\n",
    "## all indexes"
   ]
  },
  {
   "cell_type": "code",
   "execution_count": 2,
   "metadata": {},
   "outputs": [],
   "source": [
    "change_name_file=r\"C:\\\\Users\\Anastassia Kolde\\\\Documents\\\\Israel secondment\\\\dictionary_19.01.23.csv\"\n",
    "data_file_name = r\"C:\\\\Users\\Anastassia Kolde\\\\Documents\\\\Israel secondment\\\\Data\\test_train_valpo.csv\"\n",
    "X_train,y_train,X_test,y_test = load_data(change_name_file,data_file_name, outcome_col=\"outcome_any\")\n",
    "drug_name=\"valproate\"\n",
    "clf = load_prediction_model(drug_name)\n",
    "X = data_preprocess(X_train,impute_drug=drug_name,replace_mean=False)\n",
    "Xs = data_preprocess(X_test,impute_drug=drug_name,replace_mean=False)\n",
    "new_clf = deepcopy(clf)\n",
    "new_clf.fit(X,y_train)\n",
    "new_clf.save_model('../models/prediction/EstBB_prediction/est_valpo_any_no_imputation_all.xgb')\n",
    "eval = evaluate_model(clf,new_clf,Xs,y_test)\n",
    "rep = fuse_string(eval)"
   ]
  },
  {
   "cell_type": "code",
   "execution_count": 3,
   "metadata": {},
   "outputs": [
    {
     "name": "stdout",
     "output_type": "stream",
     "text": [
      "auc1: 0.53 (upper: 0.65, lower: 0.42) \n",
      " auc2: 0.69 (upper: 0.80, lower: 0.57) \n",
      " mcnemar_test: p-value 0.500 \n",
      " delong_test: p-value 0.035 \n",
      " \n"
     ]
    }
   ],
   "source": [
    "print(rep)"
   ]
  },
  {
   "cell_type": "code",
   "execution_count": 4,
   "metadata": {},
   "outputs": [],
   "source": [
    "change_name_file=r\"C:\\\\Users\\Anastassia Kolde\\\\Documents\\\\Israel secondment\\\\dictionary_19.01.23.csv\"\n",
    "data_file_name = r\"C:\\\\Users\\Anastassia Kolde\\\\Documents\\\\Israel secondment\\\\Data\\test_train_valpo.csv\"\n",
    "X_train,y_train,X_test,y_test = load_data(change_name_file,data_file_name, outcome_col=\"outcome_primary\")\n",
    "drug_name=\"valproate\"\n",
    "clf = load_prediction_model(drug_name)\n",
    "X = data_preprocess(X_train,impute_drug=drug_name,replace_mean=False)\n",
    "Xs = data_preprocess(X_test,impute_drug=drug_name,replace_mean=False)\n",
    "new_clf = deepcopy(clf)\n",
    "new_clf.fit(X,y_train)\n",
    "new_clf.save_model('../models/prediction/EstBB_prediction/est_valpo_primary_no_imputation_all.xgb')\n",
    "eval = evaluate_model(clf,new_clf,Xs,y_test)\n",
    "rep = fuse_string(eval)"
   ]
  },
  {
   "cell_type": "code",
   "execution_count": 5,
   "metadata": {},
   "outputs": [
    {
     "name": "stdout",
     "output_type": "stream",
     "text": [
      "auc1: 0.62 (upper: 0.78, lower: 0.45) \n",
      " auc2: 0.57 (upper: 0.71, lower: 0.42) \n",
      " mcnemar_test: p-value 1.000 \n",
      " delong_test: p-value 0.663 \n",
      " \n"
     ]
    }
   ],
   "source": [
    "print(rep)"
   ]
  },
  {
   "cell_type": "markdown",
   "metadata": {},
   "source": [
    "## 1.st index"
   ]
  },
  {
   "cell_type": "code",
   "execution_count": 6,
   "metadata": {},
   "outputs": [],
   "source": [
    "change_name_file=r\"C:\\\\Users\\Anastassia Kolde\\\\Documents\\\\Israel secondment\\\\dictionary_19.01.23.csv\"\n",
    "data_file_name = r\"C:\\\\Users\\Anastassia Kolde\\\\Documents\\\\Israel secondment\\\\Data\\test_train_valpo_1st_index.csv\"\n",
    "X_train,y_train,X_test,y_test = load_data(change_name_file,data_file_name, outcome_col=\"outcome_any\")\n",
    "drug_name=\"valproate\"\n",
    "clf = load_prediction_model(drug_name)\n",
    "X = data_preprocess(X_train,impute_drug=drug_name,replace_mean=False)\n",
    "Xs = data_preprocess(X_test,impute_drug=drug_name,replace_mean=False)\n",
    "new_clf = deepcopy(clf)\n",
    "new_clf.fit(X,y_train)\n",
    "new_clf.save_model('../models/prediction/EstBB_prediction/est_valpo_any_no_imputation_1st.xgb')\n",
    "eval = evaluate_model(clf,new_clf,Xs,y_test)\n",
    "rep = fuse_string(eval)"
   ]
  },
  {
   "cell_type": "code",
   "execution_count": 7,
   "metadata": {},
   "outputs": [
    {
     "name": "stdout",
     "output_type": "stream",
     "text": [
      "auc1: 0.62 (upper: 0.77, lower: 0.46) \n",
      " auc2: 0.75 (upper: 0.85, lower: 0.63) \n",
      " mcnemar_test: p-value 1.000 \n",
      " delong_test: p-value 0.252 \n",
      " \n"
     ]
    }
   ],
   "source": [
    "print(rep)"
   ]
  },
  {
   "cell_type": "code",
   "execution_count": 8,
   "metadata": {},
   "outputs": [],
   "source": [
    "change_name_file=r\"C:\\\\Users\\Anastassia Kolde\\\\Documents\\\\Israel secondment\\\\dictionary_19.01.23.csv\"\n",
    "data_file_name = r\"C:\\\\Users\\Anastassia Kolde\\\\Documents\\\\Israel secondment\\\\Data\\test_train_valpo_1st_index.csv\"\n",
    "X_train,y_train,X_test,y_test = load_data(change_name_file,data_file_name, outcome_col=\"outcome_primary\")\n",
    "drug_name=\"valproate\"\n",
    "clf = load_prediction_model(drug_name)\n",
    "X = data_preprocess(X_train,impute_drug=drug_name,replace_mean=False)\n",
    "Xs = data_preprocess(X_test,impute_drug=drug_name,replace_mean=False)\n",
    "new_clf = deepcopy(clf)\n",
    "new_clf.fit(X,y_train)\n",
    "new_clf.save_model('../models/prediction/EstBB_prediction/est_valpo_primary_no_imputation_1st.xgb')\n",
    "eval = evaluate_model(clf,new_clf,Xs,y_test)\n",
    "rep = fuse_string(eval)"
   ]
  },
  {
   "cell_type": "code",
   "execution_count": 9,
   "metadata": {},
   "outputs": [
    {
     "name": "stdout",
     "output_type": "stream",
     "text": [
      "auc1: 0.66 (upper: 0.84, lower: 0.46) \n",
      " auc2: 0.57 (upper: 0.77, lower: 0.36) \n",
      " mcnemar_test: p-value 1.000 \n",
      " delong_test: p-value 0.524 \n",
      " \n"
     ]
    }
   ],
   "source": [
    "print(rep)"
   ]
  },
  {
   "cell_type": "markdown",
   "metadata": {},
   "source": [
    "# mean imputer\n",
    "## multiple indexes"
   ]
  },
  {
   "cell_type": "code",
   "execution_count": 10,
   "metadata": {},
   "outputs": [],
   "source": [
    "change_name_file=r\"C:\\\\Users\\Anastassia Kolde\\\\Documents\\\\Israel secondment\\\\dictionary_19.01.23.csv\"\n",
    "data_file_name = r\"C:\\\\Users\\Anastassia Kolde\\\\Documents\\\\Israel secondment\\\\Data\\test_train_valpo.csv\"\n",
    "X_train,y_train,X_test,y_test = load_data(change_name_file,data_file_name, outcome_col=\"outcome_any\")\n",
    "\n",
    "drug_name=\"valproate\"\n",
    "clf = load_prediction_model(drug_name)\n",
    "X = data_preprocess(X_train,impute_drug=drug_name,replace_mean=True)\n",
    "Xs = data_preprocess(X_test,impute_drug=drug_name,replace_mean=True)\n",
    "\n",
    "new_clf = deepcopy(clf)\n",
    "new_clf.fit(X,y_train)\n",
    "new_clf.save_model('../models/prediction/EstBB_prediction/est_valpo_any_mean_all.xgb')\n",
    "eval = evaluate_model(clf,new_clf,Xs,y_test)\n",
    "rep = fuse_string(eval)"
   ]
  },
  {
   "cell_type": "code",
   "execution_count": 11,
   "metadata": {
    "scrolled": true
   },
   "outputs": [
    {
     "name": "stdout",
     "output_type": "stream",
     "text": [
      "auc1: 0.52 (upper: 0.63, lower: 0.40) \n",
      " auc2: 0.69 (upper: 0.80, lower: 0.57) \n",
      " mcnemar_test: p-value 0.500 \n",
      " delong_test: p-value 0.025 \n",
      " \n"
     ]
    }
   ],
   "source": [
    "print(rep)"
   ]
  },
  {
   "cell_type": "code",
   "execution_count": 12,
   "metadata": {},
   "outputs": [],
   "source": [
    "data_file_name = r\"C:\\\\Users\\Anastassia Kolde\\\\Documents\\\\Israel secondment\\\\Data\\test_train_valpo.csv\"\n",
    "X_train,y_train,X_test,y_test = load_data(change_name_file,data_file_name, outcome_col=\"outcome_primary\")\n",
    "drug_name=\"valproate\"\n",
    "clf = load_prediction_model(drug_name)\n",
    "X = data_preprocess(X_train,impute_drug=drug_name,replace_mean=True)\n",
    "Xs = data_preprocess(X_test,impute_drug=drug_name,replace_mean=True)\n",
    "new_clf = deepcopy(clf)\n",
    "new_clf.fit(X,y_train)\n",
    "new_clf.save_model('../models/prediction/EstBB_prediction/est_valpo_primary_mean_all.xgb')\n",
    "eval = evaluate_model(clf,new_clf,Xs,y_test)\n",
    "rep = fuse_string(eval)"
   ]
  },
  {
   "cell_type": "code",
   "execution_count": 13,
   "metadata": {},
   "outputs": [
    {
     "name": "stdout",
     "output_type": "stream",
     "text": [
      "auc1: 0.60 (upper: 0.77, lower: 0.42) \n",
      " auc2: 0.57 (upper: 0.71, lower: 0.42) \n",
      " mcnemar_test: p-value 1.000 \n",
      " delong_test: p-value 0.798 \n",
      " \n"
     ]
    }
   ],
   "source": [
    "print(rep)"
   ]
  },
  {
   "cell_type": "markdown",
   "metadata": {},
   "source": [
    "## 1.st index"
   ]
  },
  {
   "cell_type": "code",
   "execution_count": 14,
   "metadata": {},
   "outputs": [],
   "source": [
    "data_file_name = r\"C:\\\\Users\\Anastassia Kolde\\\\Documents\\\\Israel secondment\\\\Data\\test_train_valpo_1st_index.csv\"\n",
    "X_train,y_train,X_test,y_test = load_data(change_name_file,data_file_name, outcome_col=\"outcome_any\")\n",
    "drug_name=\"valproate\"\n",
    "clf = load_prediction_model(drug_name)\n",
    "X = data_preprocess(X_train,impute_drug=drug_name,replace_mean=True)\n",
    "Xs = data_preprocess(X_test,impute_drug=drug_name,replace_mean=True)\n",
    "new_clf = deepcopy(clf)\n",
    "new_clf.fit(X,y_train)\n",
    "new_clf.save_model('../models/prediction/EstBB_prediction/est_valpo_any_mean_1st.xgb')\n",
    "eval = evaluate_model(clf,new_clf,Xs,y_test)\n",
    "rep = fuse_string(eval)"
   ]
  },
  {
   "cell_type": "code",
   "execution_count": 15,
   "metadata": {
    "scrolled": true
   },
   "outputs": [
    {
     "name": "stdout",
     "output_type": "stream",
     "text": [
      "auc1: 0.59 (upper: 0.75, lower: 0.42) \n",
      " auc2: 0.75 (upper: 0.85, lower: 0.63) \n",
      " mcnemar_test: p-value 1.000 \n",
      " delong_test: p-value 0.183 \n",
      " \n"
     ]
    }
   ],
   "source": [
    "print(rep)"
   ]
  },
  {
   "cell_type": "code",
   "execution_count": 16,
   "metadata": {},
   "outputs": [],
   "source": [
    "data_file_name = r\"C:\\\\Users\\Anastassia Kolde\\\\Documents\\\\Israel secondment\\\\Data\\test_train_valpo_1st_index.csv\"\n",
    "X_train,y_train,X_test,y_test = load_data(change_name_file,data_file_name, outcome_col=\"outcome_primary\")\n",
    "drug_name=\"valproate\"\n",
    "clf = load_prediction_model(drug_name)\n",
    "X = data_preprocess(X_train,impute_drug=drug_name,replace_mean=True)\n",
    "Xs = data_preprocess(X_test,impute_drug=drug_name,replace_mean=True)\n",
    "new_clf = deepcopy(clf)\n",
    "new_clf.fit(X,y_train)\n",
    "new_clf.save_model('../models/prediction/EstBB_prediction/est_valpo_primary_mean_1st.xgb')\n",
    "eval = evaluate_model(clf,new_clf,Xs,y_test)\n",
    "rep = fuse_string(eval)\n"
   ]
  },
  {
   "cell_type": "code",
   "execution_count": 17,
   "metadata": {},
   "outputs": [
    {
     "name": "stdout",
     "output_type": "stream",
     "text": [
      "auc1: 0.63 (upper: 0.83, lower: 0.41) \n",
      " auc2: 0.57 (upper: 0.77, lower: 0.36) \n",
      " mcnemar_test: p-value 1.000 \n",
      " delong_test: p-value 0.701 \n",
      " \n"
     ]
    }
   ],
   "source": [
    "print(rep)"
   ]
  }
 ],
 "metadata": {
  "kernelspec": {
   "display_name": "Python 3 (ipykernel)",
   "language": "python",
   "name": "python3"
  },
  "language_info": {
   "codemirror_mode": {
    "name": "ipython",
    "version": 3
   },
   "file_extension": ".py",
   "mimetype": "text/x-python",
   "name": "python",
   "nbconvert_exporter": "python",
   "pygments_lexer": "ipython3",
   "version": "3.8.15"
  },
  "vscode": {
   "interpreter": {
    "hash": "ddd9f49c652c6d182f69755b7ee5e124f86cbddecfc26f23757e5e4f41f4cab8"
   }
  }
 },
 "nbformat": 4,
 "nbformat_minor": 2
}
