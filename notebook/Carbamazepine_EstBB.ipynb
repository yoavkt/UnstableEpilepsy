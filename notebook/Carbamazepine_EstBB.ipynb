{
 "cells": [
  {
   "cell_type": "code",
   "execution_count": 5,
   "metadata": {},
   "outputs": [],
   "source": [
    "import pandas as pd\n",
    "import warnings\n",
    "\n",
    "warnings.filterwarnings(\"ignore\")\n",
    "\n",
    "from epilepsy_prediction import load_prediction_model, data_preprocess,fuse_string,evaluate_model,load_imputation_model\n",
    "from epilepsy_prediction.imputation import column_imputer\n",
    "from copy import deepcopy\n",
    "from pandas import read_csv\n",
    "\n",
    "\n",
    "def load_data(change_name_file,data_file_name,outcome_col=\"outcome\"):\n",
    "    data_df = pd.read_csv(data_file_name, index_col=0)\n",
    "    new_name_df = pd.read_csv(change_name_file,index_col=0)\n",
    "    data_df.rename(new_name_df['marketscan'].to_dict(),inplace=True,axis=1)\n",
    "    y_train = data_df.loc[data_df[\"test_train\"]==\"train\",outcome_col]\n",
    "    X_train = data_df.loc[data_df[\"test_train\"]==\"train\",~( data_df.columns.isin([outcome_col,\"test_train\"]))]\n",
    "    y_test = data_df.loc[~(data_df[\"test_train\"]==\"train\"),outcome_col]\n",
    "    X_test = data_df.loc[~(data_df[\"test_train\"]==\"train\"),~ (data_df.columns.isin([outcome_col,\"test_train\"]))]\n",
    "    return X_train,y_train,X_test,y_test\n"
   ]
  },
  {
   "cell_type": "markdown",
   "metadata": {},
   "source": [
    "Loading the model, we can select between: Carbamazepine, Gabapentin, Lamotrigine, Levetiracetam, Oxcarbazepine, Phenytoin,Topiramate,Valproate. "
   ]
  },
  {
   "cell_type": "markdown",
   "metadata": {},
   "source": [
    "# multiple indexes"
   ]
  },
  {
   "cell_type": "code",
   "execution_count": 35,
   "metadata": {},
   "outputs": [],
   "source": [
    "change_name_file=r\"C:\\\\Users\\Anastassia Kolde\\\\Documents\\\\Israel secondment\\\\dictionary.csv\"\n",
    "data_file_name = r\"C:\\\\Users\\Anastassia Kolde\\\\Documents\\\\Israel secondment\\\\Data\\test_train_epilepsy_19.01.23.csv\"\n",
    "X_train,y_train,X_test,y_test = load_data(change_name_file,data_file_name, outcome_col=\"outcome_any\")\n",
    "\n",
    "drug_name=\"carbamazepine\"\n",
    "clf = load_prediction_model(drug_name)\n",
    "X = data_preprocess(X_train,impute_drug=drug_name,replace_mean=True)\n",
    "Xs = data_preprocess(X_test,impute_drug=drug_name,replace_mean=True)\n",
    "\n",
    "new_clf = deepcopy(clf)\n",
    "new_clf.fit(X,y_train)\n",
    "new_clf.save_model('../models/prediction/EstBB_prediction/est_carba_any.xgb')"
   ]
  },
  {
   "cell_type": "code",
   "execution_count": 36,
   "metadata": {},
   "outputs": [],
   "source": [
    "eval = evaluate_model(clf,new_clf,Xs,y_test)\n",
    "rep = fuse_string(eval)"
   ]
  },
  {
   "cell_type": "code",
   "execution_count": 37,
   "metadata": {
    "scrolled": true
   },
   "outputs": [
    {
     "name": "stdout",
     "output_type": "stream",
     "text": [
      "auc1: 0.47 (upper: 0.55, lower: 0.39) \n",
      " auc2: 0.64 (upper: 0.73, lower: 0.55) \n",
      " mcnemar_test: p-value 1.000 \n",
      " delong_test: p-value 0.002 \n",
      " \n"
     ]
    }
   ],
   "source": [
    "print(rep)"
   ]
  },
  {
   "cell_type": "code",
   "execution_count": 38,
   "metadata": {},
   "outputs": [],
   "source": [
    "data_file_name = r\"C:\\\\Users\\Anastassia Kolde\\\\Documents\\\\Israel secondment\\\\Data\\test_train_epilepsy_19.01.23.csv\"\n",
    "X_train,y_train,X_test,y_test = load_data(change_name_file,data_file_name, outcome_col=\"outcome_primary\")\n",
    "drug_name=\"carbamazepine\"\n",
    "clf = load_prediction_model(drug_name)\n",
    "X = data_preprocess(X_train,impute_drug=drug_name,replace_mean=True)\n",
    "Xs = data_preprocess(X_test,impute_drug=drug_name,replace_mean=True)\n",
    "new_clf = deepcopy(clf)\n",
    "new_clf.fit(X,y_train)\n",
    "new_clf.save_model('../models/prediction/EstBB_prediction/est_carba_primary.xgb')\n",
    "eval = evaluate_model(clf,new_clf,Xs,y_test)\n",
    "rep = fuse_string(eval)"
   ]
  },
  {
   "cell_type": "code",
   "execution_count": 39,
   "metadata": {},
   "outputs": [
    {
     "name": "stdout",
     "output_type": "stream",
     "text": [
      "auc1: 0.48 (upper: 0.60, lower: 0.36) \n",
      " auc2: 0.52 (upper: 0.67, lower: 0.37) \n",
      " mcnemar_test: p-value 1.000 \n",
      " delong_test: p-value 0.509 \n",
      " \n"
     ]
    }
   ],
   "source": [
    "print(rep)"
   ]
  },
  {
   "cell_type": "markdown",
   "metadata": {},
   "source": [
    "# 1.st index"
   ]
  },
  {
   "cell_type": "code",
   "execution_count": 46,
   "metadata": {},
   "outputs": [],
   "source": [
    "data_file_name = r\"C:\\\\Users\\Anastassia Kolde\\\\Documents\\\\Israel secondment\\\\Data\\test_train_epilepsy_1st_index.csv\"\n",
    "X_train,y_train,X_test,y_test = load_data(change_name_file,data_file_name, outcome_col=\"outcome_any\")\n",
    "drug_name=\"carbamazepine\"\n",
    "clf = load_prediction_model(drug_name)\n",
    "X = data_preprocess(X_train,impute_drug=drug_name,replace_mean=True)\n",
    "Xs = data_preprocess(X_test,impute_drug=drug_name,replace_mean=True)\n",
    "new_clf = deepcopy(clf)\n",
    "new_clf.fit(X,y_train)\n",
    "new_clf.save_model('../models/prediction/EstBB_prediction/est_carba_any_1st_index.xgb')\n",
    "eval = evaluate_model(clf,new_clf,Xs,y_test)\n",
    "rep = fuse_string(eval)"
   ]
  },
  {
   "cell_type": "code",
   "execution_count": 19,
   "metadata": {},
   "outputs": [
    {
     "name": "stdout",
     "output_type": "stream",
     "text": [
      "auc1: 0.47 (upper: 0.56, lower: 0.38) \n",
      " auc2: 0.54 (upper: 0.64, lower: 0.44) \n",
      " mcnemar_test: p-value 1.000 \n",
      " delong_test: p-value 0.230 \n",
      " \n"
     ]
    }
   ],
   "source": [
    "print(rep)"
   ]
  },
  {
   "cell_type": "code",
   "execution_count": 20,
   "metadata": {},
   "outputs": [],
   "source": [
    "data_file_name = r\"C:\\\\Users\\Anastassia Kolde\\\\Documents\\\\Israel secondment\\\\Data\\test_train_epilepsy_1st_index.csv\"\n",
    "X_train,y_train,X_test,y_test = load_data(change_name_file,data_file_name, outcome_col=\"outcome_primary\")\n",
    "drug_name=\"carbamazepine\"\n",
    "clf = load_prediction_model(drug_name)\n",
    "X = data_preprocess(X_train,impute_drug=drug_name,replace_mean=True)\n",
    "Xs = data_preprocess(X_test,impute_drug=drug_name,replace_mean=True)\n",
    "new_clf = deepcopy(clf)\n",
    "new_clf.fit(X,y_train)\n",
    "new_clf.save_model('../models/prediction/EstBB_prediction/est_carba_primary_1st_index.xgb')\n",
    "eval = evaluate_model(clf,new_clf,Xs,y_test)\n",
    "rep = fuse_string(eval)\n"
   ]
  },
  {
   "cell_type": "code",
   "execution_count": 21,
   "metadata": {},
   "outputs": [
    {
     "name": "stdout",
     "output_type": "stream",
     "text": [
      "auc1: 0.48 (upper: 0.61, lower: 0.35) \n",
      " auc2: 0.52 (upper: 0.66, lower: 0.38) \n",
      " mcnemar_test: p-value 1.000 \n",
      " delong_test: p-value 0.406 \n",
      " \n"
     ]
    }
   ],
   "source": [
    "print(rep)"
   ]
  },
  {
   "cell_type": "markdown",
   "metadata": {},
   "source": [
    "# no imputation"
   ]
  },
  {
   "cell_type": "code",
   "execution_count": 55,
   "metadata": {},
   "outputs": [],
   "source": [
    "data_file_name = r\"C:\\\\Users\\Anastassia Kolde\\\\Documents\\\\Israel secondment\\\\Data\\test_train_epilepsy_19.01.23.csv\"\n",
    "X_train,y_train,X_test,y_test = load_data(change_name_file,data_file_name, outcome_col=\"outcome_any\")\n",
    "drug_name=\"carbamazepine\"\n",
    "clf = load_prediction_model(drug_name)\n",
    "X = data_preprocess(X_train,impute_drug=drug_name,replace_mean=False)\n",
    "Xs = data_preprocess(X_test,impute_drug=drug_name,replace_mean=False)\n",
    "new_clf = deepcopy(clf)\n",
    "new_clf.fit(X,y_train)\n",
    "#new_clf.save_model('../models/prediction/EstBB_prediction/est_carba_any_1st_index.xgb')\n",
    "eval = evaluate_model(clf,new_clf,Xs,y_test)\n",
    "rep = fuse_string(eval)"
   ]
  },
  {
   "cell_type": "code",
   "execution_count": 56,
   "metadata": {},
   "outputs": [
    {
     "name": "stdout",
     "output_type": "stream",
     "text": [
      "auc1: 0.50 (upper: 0.58, lower: 0.43) \n",
      " auc2: 0.64 (upper: 0.73, lower: 0.55) \n",
      " mcnemar_test: p-value 1.000 \n",
      " delong_test: p-value 0.012 \n",
      " \n"
     ]
    }
   ],
   "source": [
    "print(rep)"
   ]
  },
  {
   "cell_type": "code",
   "execution_count": 59,
   "metadata": {},
   "outputs": [],
   "source": [
    "data_file_name = r\"C:\\\\Users\\Anastassia Kolde\\\\Documents\\\\Israel secondment\\\\Data\\test_train_epilepsy_19.01.23.csv\"\n",
    "X_train,y_train,X_test,y_test = load_data(change_name_file,data_file_name, outcome_col=\"outcome_primary\")\n",
    "drug_name=\"carbamazepine\"\n",
    "clf = load_prediction_model(drug_name)\n",
    "X = data_preprocess(X_train,impute_drug=drug_name,replace_mean=False)\n",
    "Xs = data_preprocess(X_test,impute_drug=drug_name,replace_mean=False)\n",
    "new_clf = deepcopy(clf)\n",
    "new_clf.fit(X,y_train)\n",
    "#new_clf.save_model('../models/prediction/EstBB_prediction/est_carba_any_1st_index.xgb')\n",
    "eval = evaluate_model(clf,new_clf,Xs,y_test)\n",
    "rep = fuse_string(eval)"
   ]
  },
  {
   "cell_type": "code",
   "execution_count": 60,
   "metadata": {},
   "outputs": [
    {
     "name": "stdout",
     "output_type": "stream",
     "text": [
      "auc1: 0.50 (upper: 0.62, lower: 0.38) \n",
      " auc2: 0.52 (upper: 0.67, lower: 0.37) \n",
      " mcnemar_test: p-value 1.000 \n",
      " delong_test: p-value 0.689 \n",
      " \n"
     ]
    }
   ],
   "source": [
    "print(rep)"
   ]
  },
  {
   "cell_type": "code",
   "execution_count": null,
   "metadata": {},
   "outputs": [],
   "source": []
  }
 ],
 "metadata": {
  "kernelspec": {
   "display_name": "Python 3 (ipykernel)",
   "language": "python",
   "name": "python3"
  },
  "language_info": {
   "codemirror_mode": {
    "name": "ipython",
    "version": 3
   },
   "file_extension": ".py",
   "mimetype": "text/x-python",
   "name": "python",
   "nbconvert_exporter": "python",
   "pygments_lexer": "ipython3",
   "version": "3.8.15"
  },
  "vscode": {
   "interpreter": {
    "hash": "ddd9f49c652c6d182f69755b7ee5e124f86cbddecfc26f23757e5e4f41f4cab8"
   }
  }
 },
 "nbformat": 4,
 "nbformat_minor": 2
}
